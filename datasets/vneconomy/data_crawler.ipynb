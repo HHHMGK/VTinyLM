{
 "cells": [
  {
   "cell_type": "code",
   "execution_count": 2,
   "metadata": {},
   "outputs": [
    {
     "name": "stdout",
     "output_type": "stream",
     "text": [
      "Requirement already satisfied: requests in d:\\libraries\\miniforge3\\envs\\vtinylm\\lib\\site-packages (2.32.3)\n",
      "Collecting beautifulsoup4\n",
      "  Using cached beautifulsoup4-4.12.3-py3-none-any.whl.metadata (3.8 kB)\n",
      "Collecting scrapy\n",
      "  Using cached Scrapy-2.11.2-py2.py3-none-any.whl.metadata (5.3 kB)\n",
      "Requirement already satisfied: charset-normalizer<4,>=2 in d:\\libraries\\miniforge3\\envs\\vtinylm\\lib\\site-packages (from requests) (3.3.2)\n",
      "Requirement already satisfied: idna<4,>=2.5 in d:\\libraries\\miniforge3\\envs\\vtinylm\\lib\\site-packages (from requests) (3.7)\n",
      "Requirement already satisfied: urllib3<3,>=1.21.1 in d:\\libraries\\miniforge3\\envs\\vtinylm\\lib\\site-packages (from requests) (2.2.2)\n",
      "Requirement already satisfied: certifi>=2017.4.17 in d:\\libraries\\miniforge3\\envs\\vtinylm\\lib\\site-packages (from requests) (2024.7.4)\n",
      "Requirement already satisfied: soupsieve>1.2 in d:\\libraries\\miniforge3\\envs\\vtinylm\\lib\\site-packages (from beautifulsoup4) (2.6)\n",
      "Requirement already satisfied: Twisted>=18.9.0 in d:\\libraries\\miniforge3\\envs\\vtinylm\\lib\\site-packages (from scrapy) (24.10.0)\n",
      "Collecting cryptography>=36.0.0 (from scrapy)\n",
      "  Using cached cryptography-43.0.3-cp39-abi3-win_amd64.whl.metadata (5.4 kB)\n",
      "Requirement already satisfied: cssselect>=0.9.1 in d:\\libraries\\miniforge3\\envs\\vtinylm\\lib\\site-packages (from scrapy) (1.2.0)\n",
      "Collecting itemloaders>=1.0.1 (from scrapy)\n",
      "  Using cached itemloaders-1.3.2-py3-none-any.whl.metadata (3.9 kB)\n",
      "Collecting parsel>=1.5.0 (from scrapy)\n",
      "  Using cached parsel-1.9.1-py2.py3-none-any.whl.metadata (11 kB)\n",
      "Collecting pyOpenSSL>=21.0.0 (from scrapy)\n",
      "  Using cached pyOpenSSL-24.2.1-py3-none-any.whl.metadata (13 kB)\n",
      "Requirement already satisfied: queuelib>=1.4.2 in d:\\libraries\\miniforge3\\envs\\vtinylm\\lib\\site-packages (from scrapy) (1.7.0)\n",
      "Collecting service-identity>=18.1.0 (from scrapy)\n",
      "  Using cached service_identity-24.2.0-py3-none-any.whl.metadata (5.1 kB)\n",
      "Requirement already satisfied: w3lib>=1.17.0 in d:\\libraries\\miniforge3\\envs\\vtinylm\\lib\\site-packages (from scrapy) (2.2.1)\n",
      "Requirement already satisfied: zope.interface>=5.1.0 in d:\\libraries\\miniforge3\\envs\\vtinylm\\lib\\site-packages (from scrapy) (7.1.1)\n",
      "Requirement already satisfied: protego>=0.1.15 in d:\\libraries\\miniforge3\\envs\\vtinylm\\lib\\site-packages (from scrapy) (0.3.1)\n",
      "Requirement already satisfied: itemadapter>=0.1.0 in d:\\libraries\\miniforge3\\envs\\vtinylm\\lib\\site-packages (from scrapy) (0.9.0)\n",
      "Requirement already satisfied: setuptools in d:\\libraries\\miniforge3\\envs\\vtinylm\\lib\\site-packages (from scrapy) (72.1.0)\n",
      "Requirement already satisfied: packaging in d:\\libraries\\miniforge3\\envs\\vtinylm\\lib\\site-packages (from scrapy) (24.1)\n",
      "Collecting tldextract (from scrapy)\n",
      "  Using cached tldextract-5.1.2-py3-none-any.whl.metadata (11 kB)\n",
      "Requirement already satisfied: lxml>=4.4.1 in d:\\libraries\\miniforge3\\envs\\vtinylm\\lib\\site-packages (from scrapy) (5.3.0)\n",
      "Requirement already satisfied: defusedxml>=0.7.1 in d:\\libraries\\miniforge3\\envs\\vtinylm\\lib\\site-packages (from scrapy) (0.7.1)\n",
      "Requirement already satisfied: PyDispatcher>=2.0.5 in d:\\libraries\\miniforge3\\envs\\vtinylm\\lib\\site-packages (from scrapy) (2.0.7)\n",
      "Collecting cffi>=1.12 (from cryptography>=36.0.0->scrapy)\n",
      "  Using cached cffi-1.17.1-cp312-cp312-win_amd64.whl.metadata (1.6 kB)\n",
      "Requirement already satisfied: jmespath>=0.9.5 in d:\\libraries\\miniforge3\\envs\\vtinylm\\lib\\site-packages (from itemloaders>=1.0.1->scrapy) (1.0.1)\n",
      "Requirement already satisfied: attrs>=19.1.0 in d:\\libraries\\miniforge3\\envs\\vtinylm\\lib\\site-packages (from service-identity>=18.1.0->scrapy) (24.2.0)\n",
      "Requirement already satisfied: pyasn1 in d:\\libraries\\miniforge3\\envs\\vtinylm\\lib\\site-packages (from service-identity>=18.1.0->scrapy) (0.6.1)\n",
      "Collecting pyasn1-modules (from service-identity>=18.1.0->scrapy)\n",
      "  Using cached pyasn1_modules-0.4.1-py3-none-any.whl.metadata (3.5 kB)\n",
      "Requirement already satisfied: automat>=24.8.0 in d:\\libraries\\miniforge3\\envs\\vtinylm\\lib\\site-packages (from Twisted>=18.9.0->scrapy) (24.8.1)\n",
      "Requirement already satisfied: constantly>=15.1 in d:\\libraries\\miniforge3\\envs\\vtinylm\\lib\\site-packages (from Twisted>=18.9.0->scrapy) (23.10.4)\n",
      "Requirement already satisfied: hyperlink>=17.1.1 in d:\\libraries\\miniforge3\\envs\\vtinylm\\lib\\site-packages (from Twisted>=18.9.0->scrapy) (21.0.0)\n",
      "Requirement already satisfied: incremental>=24.7.0 in d:\\libraries\\miniforge3\\envs\\vtinylm\\lib\\site-packages (from Twisted>=18.9.0->scrapy) (24.7.2)\n",
      "Requirement already satisfied: typing-extensions>=4.2.0 in d:\\libraries\\miniforge3\\envs\\vtinylm\\lib\\site-packages (from Twisted>=18.9.0->scrapy) (4.12.2)\n",
      "Collecting requests-file>=1.4 (from tldextract->scrapy)\n",
      "  Using cached requests_file-2.1.0-py2.py3-none-any.whl.metadata (1.7 kB)\n",
      "Requirement already satisfied: filelock>=3.0.8 in d:\\libraries\\miniforge3\\envs\\vtinylm\\lib\\site-packages (from tldextract->scrapy) (3.15.4)\n",
      "Requirement already satisfied: pycparser in d:\\libraries\\miniforge3\\envs\\vtinylm\\lib\\site-packages (from cffi>=1.12->cryptography>=36.0.0->scrapy) (2.22)\n",
      "Using cached beautifulsoup4-4.12.3-py3-none-any.whl (147 kB)\n",
      "Using cached Scrapy-2.11.2-py2.py3-none-any.whl (290 kB)\n",
      "Using cached cryptography-43.0.3-cp39-abi3-win_amd64.whl (3.1 MB)\n",
      "Using cached itemloaders-1.3.2-py3-none-any.whl (12 kB)\n",
      "Using cached parsel-1.9.1-py2.py3-none-any.whl (17 kB)\n",
      "Using cached pyOpenSSL-24.2.1-py3-none-any.whl (58 kB)\n",
      "Using cached service_identity-24.2.0-py3-none-any.whl (11 kB)\n",
      "Using cached tldextract-5.1.2-py3-none-any.whl (97 kB)\n",
      "Using cached cffi-1.17.1-cp312-cp312-win_amd64.whl (181 kB)\n",
      "Using cached requests_file-2.1.0-py2.py3-none-any.whl (4.2 kB)\n",
      "Using cached pyasn1_modules-0.4.1-py3-none-any.whl (181 kB)\n",
      "Installing collected packages: pyasn1-modules, parsel, cffi, beautifulsoup4, requests-file, itemloaders, cryptography, tldextract, service-identity, pyOpenSSL, scrapy\n",
      "Successfully installed beautifulsoup4-4.12.3 cffi-1.17.1 cryptography-43.0.3 itemloaders-1.3.2 parsel-1.9.1 pyOpenSSL-24.2.1 pyasn1-modules-0.4.1 requests-file-2.1.0 scrapy-2.11.2 service-identity-24.2.0 tldextract-5.1.2\n",
      "Note: you may need to restart the kernel to use updated packages.\n"
     ]
    }
   ],
   "source": [
    "%pip install requests beautifulsoup4 scrapy"
   ]
  },
  {
   "cell_type": "code",
   "execution_count": null,
   "metadata": {},
   "outputs": [],
   "source": [
    "import requests\n",
    "from bs4 import BeautifulSoup\n",
    "\n",
    "def crawl_article(url, print_res=False):\n",
    "    # Fetch the page content\n",
    "    response = requests.get(url)\n",
    "    if response.status_code == 200:\n",
    "        print(\"Page retrieved successfully, URL:\", url)\n",
    "        page_content = response.content\n",
    "    else:\n",
    "        print(\"Failed to retrieve page:\", url)\n",
    "        return None\n",
    "\n",
    "    # Parse the content\n",
    "    soup = BeautifulSoup(page_content, \"html.parser\")\n",
    "\n",
    "    # Extract Title\n",
    "    title = soup.find(\"h1\", class_=\"detail__title\")\n",
    "    if title is not None:\n",
    "        title = title.get_text(strip=True)\n",
    "    else:\n",
    "        print(\"Title not found\")\n",
    "        title = \"\"\n",
    "\n",
    "    # Extract Content\n",
    "    content_paragraphs = soup.find(\"div\", class_=\"detail__content\")\n",
    "    if content_paragraphs is not None:\n",
    "        content_paragraphs = content_paragraphs.find_all(\"p\")\n",
    "        content = \"\\n\".join([p.get_text(strip=True) for p in content_paragraphs])\n",
    "    else:\n",
    "        print(\"Content not found\")\n",
    "        content_paragraphs = \"\"\n",
    "        content = \"\"\n",
    "\n",
    "    # Extract Category\n",
    "    category = soup.find(\"h1\", class_=\"category-main\")\n",
    "    if category is not None:\n",
    "        category = category.get_text(strip=True)\n",
    "    else:\n",
    "        print(\"Category not found\")\n",
    "        category = \"\"\n",
    "\n",
    "    # Extract Date\n",
    "    date = soup.find(\"div\", class_=\"detail__meta\")\n",
    "    if date is not None:\n",
    "        date = date.get_text(strip=True)\n",
    "    else:\n",
    "        print(\"Date not found\")\n",
    "        date = \"\"\n",
    "\n",
    "    res = {\n",
    "        \"title\": title,\n",
    "        \"date\": date,\n",
    "        \"category\": category,\n",
    "        \"url\": url,\n",
    "        \"content\": content\n",
    "    }\n",
    "    # Display the extracted information\n",
    "    if print_res:\n",
    "        print(res)\n",
    "    \n",
    "    return res"
   ]
  },
  {
   "cell_type": "code",
   "execution_count": 23,
   "metadata": {},
   "outputs": [],
   "source": [
    "def crawl_article_list(home_url, num_page=1):\n",
    "    article_links = set()\n",
    "    for page in range(num_page):\n",
    "        # Fetch the homepage content\n",
    "        url = home_url+f'?trang={page+1}'\n",
    "        response = requests.get(url)\n",
    "        if response.status_code == 200:\n",
    "            page_content = response.content\n",
    "        else:\n",
    "            print(\"Failed to retrieve homepage:\", url)\n",
    "            return None\n",
    "\n",
    "        # Parse the homepage HTML\n",
    "        soup = BeautifulSoup(page_content, \"html.parser\")\n",
    "\n",
    "        # Find all article links\n",
    "        for article in soup.find_all('article'):\n",
    "            link = article.find('a', href=True)\n",
    "            if link:\n",
    "                article_links.add(link['href'])\n",
    "\n",
    "    return article_links"
   ]
  },
  {
   "cell_type": "code",
   "execution_count": 8,
   "metadata": {},
   "outputs": [
    {
     "name": "stdout",
     "output_type": "stream",
     "text": [
      "{'title': 'Ấn Độ dỡ bỏ lệnh cấm xuất khẩu gạo và những tác động', 'date': '15:21 27/10/2024', 'category': 'Thị trường', 'url': 'https://vneconomy.vn/an-do-do-bo-lenh-cam-xuat-khau-gao-va-nhung-tac-dong.htm', 'content': 'Theo số liệu của Bộ Nông nghiệp và Phát triển nông thôn, xuất khẩu gạo của Việt Nam 9 tháng năm 2024 đạt 7 triệu tấn, với trị giá 4,37 tỷ USD, tăng 9,2% về lượng và tăng 23,5% về trị giá so với cùng kỳ năm ngoái. Giá xuất khẩu gạo bình quân đạt 624 USD/tấn, tăng 13,1% so với cùng kỳ năm 2023.\\nTrên thị trường thế giới, lệnh cấm xuất khẩu của Ấn Độ đối với gạo trắng không phải basmati - loại gạo đặc sản nổi tiếng của Ấn Độ và khu vực Nam Á - từ ngày 20/7/2023 đã có tác động sâu rộng đến giá gạo xuất khẩu toàn cầu trong hơn một năm qua, đẩy giá lên mức cao nhất trong 15 năm. Mặc dù áp dụng lệnh cấm, song theo số liệu từ Bộ Thương mại Ấn Độ, sau 9 tháng năm 2024, Ấn Độ vẫn là nước xuất khẩu gạo đứng vị trí thứ nhất trên thế giới, với gần 10,9 triệu tấn; vị trí thứ hai thuộc về Việt Nam và Thái Lan cùng ở mức 7 triệu tấn.\\nNgày 28/9/2024, Chính phủ Ấn Độ đã đình chỉ lệnh cấm xuất khẩu gạo đối với gạo xay xát không phải gạo basmati, chấm dứt lệnh cấm kéo dài hơn 14 tháng. Đồng thời, nước này cũng giảm thuế xuất khẩu gạo lứt và gạo đồ từ 20% xuống còn 10%. Quyết định của Ấn Độ được đưa ra khi sản lượng thu hoạch gạo của nước này trong năm 2024 tăng cao hơn, củng cố kho dự trữ của nhà nước để đáp ứng nhu cầu trong nước và nông dân chuẩn bị thu hoạch vụ mùa mới trong vài tuần tới.\\n\"Hiện gạo Việt Nam đã có thị phần, giá trị, chất lượng tương đối ổn định trên thị trường thế giới. Hơn nữa, hệ sinh thái trong chuỗi giá trị gắn với thị trường tương đối chặt chẽ, bài bản. Do đó, việc Ấn Độ dỡ bỏ các hạn chế xuất khẩu có khả năng là sẽ không tác động trực tiếp đến xuất khẩu gạo của Việt Nam”.\\nÔng Phùng Đức Tiến, Thứ trưởng Bộ Nông nghiệp và Phát triển nông thôn.\\nNhận định về việc Ấn Độ dỡ bỏ lệnh xuất khẩu gạo tẻ thường tác động như thế nào đến xuất khẩu gạo của Việt Nam, Thứ trưởng Bộ Nông nghiệp và Phát triển nông thôn Phùng Đức Tiến cho biết: gạo Việt Nam đã và đang chiếm lĩnh thị trường ở phân khúc cao cấp, gạo chất lượng cao, giá bán cao, trong khi gạo của Ấn Độ ở phân khúc rẻ tiền hơn nên “nước sông không phạm nước giếng”.\\n“Gạo của Việt Nam chủ yếu được xuất khẩu sang các quốc gia trong khu vực châu Á như Philippines, Indonesia, Malaysia, Trung Quốc, Singapore; trong khi đó gạo Ấn Độ chủ yếu xuất khẩu sang các quốc gia thuộc khu vực châu Phi và Trung Đông.\\xa0Có thể thấy thị trường và phân khúc gạo xuất khẩu của Việt Nam và Ấn Độ rất khác nhau\",\\xa0Thứ trưởng Phùng Đức Tiến chia sẻ.\\nTheo Hiệp hội Lương thực Việt Nam, việc gạo tẻ thường của Ấn Độ quay lại thị trường sẽ gây áp lực giảm giá lên các loại gạo phổ thông, như gạo 5% và 25% tấm của Việt Nam. Tuy nhiên, giá gạo xuất khẩu của Việt Nam khó có thể giảm về dưới 500 USD/tấn do nguồn cung nội địa không dồi dào.\\nÔng Đỗ Hà Nam, Phó Chủ tịch Hiệp hội Lương thực Việt Nam, cho biết giống lúa của Ấn Độ khác với Việt Nam. Gạo Ấn Độ chủ yếu là gạo phẩm cấp thấp và xuất khẩu sang thị trường châu Phi. Còn tại Việt Nam, phần lớn diện tích đã được nông dân chuyển sang trồng các giống lúa chất lượng cao. Mặc dù giá giảm nhưng nhu cầu từ các thị trường chủ lực của Việt Nam như Philippines, Indonesia và Malaysia vẫn giữ ở mức cao.\\nViệc Chính phủ Ấn Độ dỡ bỏ lệnh cấm xuất khẩu gạo tẻ thường đã ngay tức khắc tác động làm giảm giá gạo xuất khẩu trên thế giới trong tháng 10/2024. Tính đến ngày 18/10/2024, giá gạo đồ 5% tấm của Ấn Độ được chào bán ở mức 490 - 495 USD/tấn, mức thấp nhất kể từ ngày 24/8/2023.\\nTheo Hiệp hội Lương thực Việt Nam (VFA), giá gạo 5% tấm của Việt Nam ngày 18/10/2024 còn 534 USD/tấn, giảm 24 USD so với cuối tháng trước; gạo 25% tấm ở mức 506 USD/tấn và gạo 100% tấm ở mức 439 USD/tấn, giảm 20-25 USD/tấn so với cuối tháng trước. Tương tự, giá gạo của Thái Lan cũng giảm về mức khoảng 518 USD/tấn, giảm 22 USD/tấn so với tháng trước và đây là mức giá thấp nhất trong hơn một năm qua. Như vậy ở thời điểm hiện tại, giá gạo xuất khẩu gạo 5% tấm của Việt Nam cao hơn 16 USD/tấn so với gạo cùng loại của Thái Lan và cao hơn 46 USD/tấn so với gạo cùng loại của Ấn Độ. Giá xuất khẩu gạo từ các nước khác đã giảm mạnh và một số đã giảm xuống dưới 500 USD/tấn lần đầu tiên kể từ tháng 7/2023.\\nĐối ngược với giá gạo xuất khẩu, giá gạo nguyên liệu trong nước lại tăng, đang gây áp lực lên các doanh nghiệp thu mua lúa gạo và xuất khẩu. Theo hệ thống khảo sát giá nông sản của Bộ Nông nghiệp và Phát triển nông thôn, giá gạo trắng thông dụng trong nước ngày 22/10/2024 tăng 500 đồng/kg so với ngày 15/10/2024. Tại khu vực Đồng bằng sông Cửu Long, giá gạo nguyên liệu IR 504 Hè Thu hiện dao động ở mức 10.500 - 10.700 đồng/kg; gạo thành phẩm IR 504 có giá 12.600 - 12.750 đồng/kg.\\n\"Trong 9 tháng năm 2024, Việt Nam đã nhập khẩu gạo trị giá 996 triệu USD, tăng tới 57,3% so với cùng kỳ năm ngoái và dự báo kim ngạch xuất khẩu cả năm có thể lên tới 1,3 tỷ USD\".\\nBộ Nông nghiệp và Phát triển nông thôn.\\nLý giải nguyên nhân khiến giá gạo trong nước đang diễn biến ngược chiều so với giá gạo thế giới, Bộ Nông nghiệp và Phát triển nông thôn cho hay do ảnh hưởng của bão lũ trong tháng 9/2024 khiến hàng trăm ha lúa ở miền Bắc bị ảnh hưởng, dẫn đến nguồn cung gạo trong nước giảm. Trong 2 tháng cuối năm, nguồn cung gạo không còn dồi dào, vì vậy một số doanh nghiệp xuất khẩu phải tăng nhập lúa gạo từ các nước láng giềng để trả đơn hàng xuất khẩu những tháng cuối năm.\\nThực tế, trong những năm qua các doanh nghiệp Việt Nam đã tăng nhập khẩu gạo cấp thấp về phục vụ cho nhu cầu tiêu dùng nội địa, để dành lượng gạo chất lượng cao trong nước cho việc xuất khẩu. Năm 2023, các doanh nghiệp Việt Nam đã chi 860 triệu USD để nhập khẩu gạo để phục vụ nhu cầu chế biến bún, phở và các loại bánh…\\nNội dung bài viết được đăng tải trên Tạp chí Kinh tế Việt Nam số 44-2024 phát hành ngày 28/10/2024.Kính mời Quý độc giả tìm đọc tạiđây:\\nhttps://postenp.phaha.vn/chi-tiet-toa-soan/tap-chi-kinh-te-viet-nam'}\n"
     ]
    },
    {
     "data": {
      "text/plain": [
       "{'title': 'Ấn Độ dỡ bỏ lệnh cấm xuất khẩu gạo và những tác động',\n",
       " 'date': '15:21 27/10/2024',\n",
       " 'category': 'Thị trường',\n",
       " 'url': 'https://vneconomy.vn/an-do-do-bo-lenh-cam-xuat-khau-gao-va-nhung-tac-dong.htm',\n",
       " 'content': 'Theo số liệu của Bộ Nông nghiệp và Phát triển nông thôn, xuất khẩu gạo của Việt Nam 9 tháng năm 2024 đạt 7 triệu tấn, với trị giá 4,37 tỷ USD, tăng 9,2% về lượng và tăng 23,5% về trị giá so với cùng kỳ năm ngoái. Giá xuất khẩu gạo bình quân đạt 624 USD/tấn, tăng 13,1% so với cùng kỳ năm 2023.\\nTrên thị trường thế giới, lệnh cấm xuất khẩu của Ấn Độ đối với gạo trắng không phải basmati - loại gạo đặc sản nổi tiếng của Ấn Độ và khu vực Nam Á - từ ngày 20/7/2023 đã có tác động sâu rộng đến giá gạo xuất khẩu toàn cầu trong hơn một năm qua, đẩy giá lên mức cao nhất trong 15 năm. Mặc dù áp dụng lệnh cấm, song theo số liệu từ Bộ Thương mại Ấn Độ, sau 9 tháng năm 2024, Ấn Độ vẫn là nước xuất khẩu gạo đứng vị trí thứ nhất trên thế giới, với gần 10,9 triệu tấn; vị trí thứ hai thuộc về Việt Nam và Thái Lan cùng ở mức 7 triệu tấn.\\nNgày 28/9/2024, Chính phủ Ấn Độ đã đình chỉ lệnh cấm xuất khẩu gạo đối với gạo xay xát không phải gạo basmati, chấm dứt lệnh cấm kéo dài hơn 14 tháng. Đồng thời, nước này cũng giảm thuế xuất khẩu gạo lứt và gạo đồ từ 20% xuống còn 10%. Quyết định của Ấn Độ được đưa ra khi sản lượng thu hoạch gạo của nước này trong năm 2024 tăng cao hơn, củng cố kho dự trữ của nhà nước để đáp ứng nhu cầu trong nước và nông dân chuẩn bị thu hoạch vụ mùa mới trong vài tuần tới.\\n\"Hiện gạo Việt Nam đã có thị phần, giá trị, chất lượng tương đối ổn định trên thị trường thế giới. Hơn nữa, hệ sinh thái trong chuỗi giá trị gắn với thị trường tương đối chặt chẽ, bài bản. Do đó, việc Ấn Độ dỡ bỏ các hạn chế xuất khẩu có khả năng là sẽ không tác động trực tiếp đến xuất khẩu gạo của Việt Nam”.\\nÔng Phùng Đức Tiến, Thứ trưởng Bộ Nông nghiệp và Phát triển nông thôn.\\nNhận định về việc Ấn Độ dỡ bỏ lệnh xuất khẩu gạo tẻ thường tác động như thế nào đến xuất khẩu gạo của Việt Nam, Thứ trưởng Bộ Nông nghiệp và Phát triển nông thôn Phùng Đức Tiến cho biết: gạo Việt Nam đã và đang chiếm lĩnh thị trường ở phân khúc cao cấp, gạo chất lượng cao, giá bán cao, trong khi gạo của Ấn Độ ở phân khúc rẻ tiền hơn nên “nước sông không phạm nước giếng”.\\n“Gạo của Việt Nam chủ yếu được xuất khẩu sang các quốc gia trong khu vực châu Á như Philippines, Indonesia, Malaysia, Trung Quốc, Singapore; trong khi đó gạo Ấn Độ chủ yếu xuất khẩu sang các quốc gia thuộc khu vực châu Phi và Trung Đông.\\xa0Có thể thấy thị trường và phân khúc gạo xuất khẩu của Việt Nam và Ấn Độ rất khác nhau\",\\xa0Thứ trưởng Phùng Đức Tiến chia sẻ.\\nTheo Hiệp hội Lương thực Việt Nam, việc gạo tẻ thường của Ấn Độ quay lại thị trường sẽ gây áp lực giảm giá lên các loại gạo phổ thông, như gạo 5% và 25% tấm của Việt Nam. Tuy nhiên, giá gạo xuất khẩu của Việt Nam khó có thể giảm về dưới 500 USD/tấn do nguồn cung nội địa không dồi dào.\\nÔng Đỗ Hà Nam, Phó Chủ tịch Hiệp hội Lương thực Việt Nam, cho biết giống lúa của Ấn Độ khác với Việt Nam. Gạo Ấn Độ chủ yếu là gạo phẩm cấp thấp và xuất khẩu sang thị trường châu Phi. Còn tại Việt Nam, phần lớn diện tích đã được nông dân chuyển sang trồng các giống lúa chất lượng cao. Mặc dù giá giảm nhưng nhu cầu từ các thị trường chủ lực của Việt Nam như Philippines, Indonesia và Malaysia vẫn giữ ở mức cao.\\nViệc Chính phủ Ấn Độ dỡ bỏ lệnh cấm xuất khẩu gạo tẻ thường đã ngay tức khắc tác động làm giảm giá gạo xuất khẩu trên thế giới trong tháng 10/2024. Tính đến ngày 18/10/2024, giá gạo đồ 5% tấm của Ấn Độ được chào bán ở mức 490 - 495 USD/tấn, mức thấp nhất kể từ ngày 24/8/2023.\\nTheo Hiệp hội Lương thực Việt Nam (VFA), giá gạo 5% tấm của Việt Nam ngày 18/10/2024 còn 534 USD/tấn, giảm 24 USD so với cuối tháng trước; gạo 25% tấm ở mức 506 USD/tấn và gạo 100% tấm ở mức 439 USD/tấn, giảm 20-25 USD/tấn so với cuối tháng trước. Tương tự, giá gạo của Thái Lan cũng giảm về mức khoảng 518 USD/tấn, giảm 22 USD/tấn so với tháng trước và đây là mức giá thấp nhất trong hơn một năm qua. Như vậy ở thời điểm hiện tại, giá gạo xuất khẩu gạo 5% tấm của Việt Nam cao hơn 16 USD/tấn so với gạo cùng loại của Thái Lan và cao hơn 46 USD/tấn so với gạo cùng loại của Ấn Độ. Giá xuất khẩu gạo từ các nước khác đã giảm mạnh và một số đã giảm xuống dưới 500 USD/tấn lần đầu tiên kể từ tháng 7/2023.\\nĐối ngược với giá gạo xuất khẩu, giá gạo nguyên liệu trong nước lại tăng, đang gây áp lực lên các doanh nghiệp thu mua lúa gạo và xuất khẩu. Theo hệ thống khảo sát giá nông sản của Bộ Nông nghiệp và Phát triển nông thôn, giá gạo trắng thông dụng trong nước ngày 22/10/2024 tăng 500 đồng/kg so với ngày 15/10/2024. Tại khu vực Đồng bằng sông Cửu Long, giá gạo nguyên liệu IR 504 Hè Thu hiện dao động ở mức 10.500 - 10.700 đồng/kg; gạo thành phẩm IR 504 có giá 12.600 - 12.750 đồng/kg.\\n\"Trong 9 tháng năm 2024, Việt Nam đã nhập khẩu gạo trị giá 996 triệu USD, tăng tới 57,3% so với cùng kỳ năm ngoái và dự báo kim ngạch xuất khẩu cả năm có thể lên tới 1,3 tỷ USD\".\\nBộ Nông nghiệp và Phát triển nông thôn.\\nLý giải nguyên nhân khiến giá gạo trong nước đang diễn biến ngược chiều so với giá gạo thế giới, Bộ Nông nghiệp và Phát triển nông thôn cho hay do ảnh hưởng của bão lũ trong tháng 9/2024 khiến hàng trăm ha lúa ở miền Bắc bị ảnh hưởng, dẫn đến nguồn cung gạo trong nước giảm. Trong 2 tháng cuối năm, nguồn cung gạo không còn dồi dào, vì vậy một số doanh nghiệp xuất khẩu phải tăng nhập lúa gạo từ các nước láng giềng để trả đơn hàng xuất khẩu những tháng cuối năm.\\nThực tế, trong những năm qua các doanh nghiệp Việt Nam đã tăng nhập khẩu gạo cấp thấp về phục vụ cho nhu cầu tiêu dùng nội địa, để dành lượng gạo chất lượng cao trong nước cho việc xuất khẩu. Năm 2023, các doanh nghiệp Việt Nam đã chi 860 triệu USD để nhập khẩu gạo để phục vụ nhu cầu chế biến bún, phở và các loại bánh…\\nNội dung bài viết được đăng tải trên Tạp chí Kinh tế Việt Nam số 44-2024 phát hành ngày 28/10/2024.Kính mời Quý độc giả tìm đọc tạiđây:\\nhttps://postenp.phaha.vn/chi-tiet-toa-soan/tap-chi-kinh-te-viet-nam'}"
      ]
     },
     "execution_count": 8,
     "metadata": {},
     "output_type": "execute_result"
    }
   ],
   "source": [
    "crawl_article('https://vneconomy.vn/an-do-do-bo-lenh-cam-xuat-khau-gao-va-nhung-tac-dong.htm', True)"
   ]
  },
  {
   "cell_type": "code",
   "execution_count": 24,
   "metadata": {},
   "outputs": [
    {
     "data": {
      "text/plain": [
       "{'/an-do-do-bo-lenh-cam-xuat-khau-gao-va-nhung-tac-dong.htm',\n",
       " '/bao-trami-suy-yeu-thanh-ap-thap-gay-mua-lon-ngap-lut-o-trung-trung-bo.htm',\n",
       " '/cac-nuoc-asean-thong-nhat-thuc-day-phat-trien-nong-nghiep-ben-vung.htm',\n",
       " '/cac-tinh-mien-nui-kho-hoan-thanh-ke-hoach-xay-dung-nong-thon-moi.htm',\n",
       " '/can-giai-phap-tang-nang-luc-cho-doanh-nghiep-trong-nuoc.htm',\n",
       " '/chu-dong-va-khan-truong-ung-pho-bao-trami.htm',\n",
       " '/co-hoi-cho-det-may-viet-nam-tiep-can-giai-phap-cong-nghe-so-xanh.htm',\n",
       " '/dap-ung-86-tieu-chi-doanh-nghiep-det-may-moi-xuat-khau-duoc-don-hang.htm',\n",
       " '/dap-ung-yeu-cau-nang-luong-cho-phat-trien-chu-trong-uu-tien-dien-sach.htm',\n",
       " '/de-xuat-chan-quang-cao-khuyen-mai-qua-50-tren-san-thuong-mai-dien-tu.htm',\n",
       " '/dien-hat-nhan-la-can-thiet-nhung-phai-dam-bao-an-toan-tuyet-doi.htm',\n",
       " '/digital-twins-chia-khoa-giam-thieu-rui-ro-truoc-tac-dong-cua-bien-doi-khi-hau.htm',\n",
       " '/doanh-nghiep-hop-tac-xay-dung-chuoi-gia-tri-rong-bien-gia-tri-cao.htm',\n",
       " '/don-doc-tap-chi-kinh-te-viet-nam-so-44-2024.htm',\n",
       " '/gia-xang-dau-tiep-tuc-giam-892799.htm',\n",
       " '/ho-tro-doanh-nghiep-xa-hoi-phat-trien-sang-tao-gia-tang-tac-dong-xa-hoi.htm',\n",
       " '/hoa-ky-ket-luan-viec-dieu-tra-chong-tro-cap-voi-tom-nuoc-am-dong-lanh-nhap-khau-tu-viet-nam.htm',\n",
       " '/kien-truc-chuyen-doi-so-can-hinh-thanh-nen-tang-thong-tin-dung-du-song-sach.htm',\n",
       " '/lam-chieu-tro-tron-thue-khi-bung-no-kinh-doanh-truc-tuyen.htm',\n",
       " '/lan-dau-tien-viet-nam-co-chuyen-trang-thuong-hieu-quoc-gia.htm',\n",
       " '/nga-danh-gia-cao-hop-tac-nang-luong-voi-viet-nam.htm',\n",
       " '/nguoi-tieu-dung-than-trong-khi-mua-sam-tren-cac-san-thuong-mai-dien-tu-temu-shein-1688.htm',\n",
       " '/online-friday-2024-ton-vinh-va-nang-cao-vi-the-cua-hang-viet.htm',\n",
       " '/phan-dau-dua-kim-ngach-song-phuong-viet-nam-tho-nhi-ky-som-dat-muc-tieu-4-ty-usd.htm',\n",
       " '/quan-ly-website-thuong-mai-dien-tu-xuyen-bien-gioi-tren-dia-ban-tp-hcm-gap-nhieu-thach-thuc.htm',\n",
       " '/sua-doi-luat-dien-luc-thuc-day-nganh-dien-phat-trien-ben-vung-huong-toi-netzero-vao-nam-2050.htm',\n",
       " '/thi-truong.htm',\n",
       " '/thu-tuong-de-xuat-5-ket-noi-chien-luoc-tai-hoi-nghi-cac-nha-lanh-dao-brics-mo-rong-nam-2024.htm',\n",
       " '/thu-tuong-pham-minh-chinh-gap-lanh-dao-cac-nuoc-va-tong-thu-ky-lien-hop-quoc-tai-nga.htm',\n",
       " '/thu-tuong-pham-minh-chinh-len-duong-tham-uae-qatar-va-saudi-arabia.htm',\n",
       " '/thuc-day-canh-tranh-va-dam-bao-quyen-loi-cho-doanh-nghiep-kinh-doanh-xang-dau.htm',\n",
       " '/ung-pho-bien-doi-khi-hau-vung-dong-bang-song-cuu-long-phai-tiep-can-tong-the-he-thong-khoa-hoc.htm',\n",
       " '/viet-nam-tu-tin-dap-ung-cac-nhu-cau-khat-khe-cua-thi-truong-halal-toan-cau.htm',\n",
       " '/xay-dung-moi-quan-he-hop-tac-ben-vung-tin-cay-giua-bao-chi-va-doanh-nghiep.htm',\n",
       " '/xuat-khau-tang-truong-kha-quan-can-can-thuong-mai-thang-du-21-25-ty-usd.htm',\n",
       " '/xuat-khau-tu-viet-nam-sang-singapore-giu-da-tang-truong-cao.htm'}"
      ]
     },
     "execution_count": 24,
     "metadata": {},
     "output_type": "execute_result"
    }
   ],
   "source": [
    "crawl_article_list('https://vneconomy.vn/thi-truong.htm', num_page=5)"
   ]
  },
  {
   "cell_type": "code",
   "execution_count": 38,
   "metadata": {},
   "outputs": [],
   "source": [
    "import json, csv\n",
    "\n",
    "def crawl_vneconomy(num_page=1, category='thi-truong',file='vneconomy',file_type='json'):\n",
    "    home_url = 'https://vneconomy.vn'\n",
    "    article_links = crawl_article_list(home_url+f'/{category}.htm', num_page)\n",
    "    article_links.remove(f'/{category}.htm')\n",
    "    articles = []\n",
    "    for sub_link in article_links:\n",
    "        article = crawl_article(home_url+sub_link)\n",
    "        if article:\n",
    "            articles.append(article)\n",
    "    \n",
    "    if file_type == 'json':\n",
    "        with open(f'{file}.json', 'w', encoding='utf8') as f:\n",
    "            json.dump(articles, f, ensure_ascii=False)\n",
    "    elif file_type == 'csv':\n",
    "        with open(f'{file}.csv', 'w', encoding='utf8') as f:\n",
    "            writer = csv.DictWriter(f, fieldnames=articles[0].keys())\n",
    "            writer.writeheader()\n",
    "            writer.writerows(articles)"
   ]
  },
  {
   "cell_type": "code",
   "execution_count": 41,
   "metadata": {},
   "outputs": [
    {
     "name": "stdout",
     "output_type": "stream",
     "text": [
      "Category not found\n",
      "Title not found\n",
      "Category not found\n",
      "Date not found\n",
      "Title not found\n",
      "Category not found\n",
      "Date not found\n",
      "Title not found\n",
      "Category not found\n",
      "Date not found\n",
      "Title not found\n",
      "Category not found\n",
      "Date not found\n",
      "Title not found\n",
      "Category not found\n",
      "Date not found\n",
      "Title not found\n",
      "Category not found\n",
      "Date not found\n",
      "Title not found\n",
      "Category not found\n",
      "Date not found\n",
      "Category not found\n",
      "Category not found\n",
      "Title not found\n",
      "Category not found\n",
      "Date not found\n",
      "Title not found\n",
      "Category not found\n",
      "Date not found\n",
      "Title not found\n",
      "Category not found\n",
      "Date not found\n"
     ]
    }
   ],
   "source": [
    "crawl_vneconomy(num_page=100, category='thi-truong', file='vneconomy', file_type='json')"
   ]
  }
 ],
 "metadata": {
  "kernelspec": {
   "display_name": "vtinylm",
   "language": "python",
   "name": "python3"
  },
  "language_info": {
   "codemirror_mode": {
    "name": "ipython",
    "version": 3
   },
   "file_extension": ".py",
   "mimetype": "text/x-python",
   "name": "python",
   "nbconvert_exporter": "python",
   "pygments_lexer": "ipython3",
   "version": "3.12.5"
  }
 },
 "nbformat": 4,
 "nbformat_minor": 2
}
