{
 "cells": [
  {
   "cell_type": "code",
   "execution_count": 2,
   "metadata": {},
   "outputs": [
    {
     "name": "stdout",
     "output_type": "stream",
     "text": [
      "Note: you may need to restart the kernel to use updated packages.\n"
     ]
    }
   ],
   "source": [
    "# %pip install -qq torchviz\n",
    "# %pip install graphviz\n",
    "%pip install -qq -r requirements.txt"
   ]
  },
  {
   "cell_type": "code",
   "execution_count": 10,
   "metadata": {},
   "outputs": [
    {
     "name": "stderr",
     "output_type": "stream",
     "text": [
      "/home/hungson175/.cache/huggingface/modules/transformers_modules/vinai/PhoGPT-4B-Chat/f56fc6d71f147a3a293fdab56676337dc6f641e1/configuration_mpt.py:114: UserWarning: alibi or rope is turned on, setting `learned_pos_emb` to `False.`\n",
      "  warnings.warn(f'alibi or rope is turned on, setting `learned_pos_emb` to `False.`')\n",
      "/home/hungson175/.cache/huggingface/modules/transformers_modules/vinai/PhoGPT-4B-Chat/f56fc6d71f147a3a293fdab56676337dc6f641e1/configuration_mpt.py:141: UserWarning: If not using a Prefix Language Model, we recommend setting \"attn_impl\" to \"flash\" instead of \"triton\".\n",
      "  warnings.warn(UserWarning('If not using a Prefix Language Model, we recommend setting \"attn_impl\" to \"flash\" instead of \"triton\".'))\n"
     ]
    }
   ],
   "source": [
    "from transformers import AutoModelForCausalLM, AutoTokenizer\n",
    "\n",
    "model_name = \"vinai/PhoGPT-4B-Chat\"\n",
    "base_model = AutoModelForCausalLM.from_pretrained(model_name, trust_remote_code=True)\n",
    "tokenizer = AutoTokenizer.from_pretrained(model_name, trust_remote_code=True)"
   ]
  },
  {
   "cell_type": "code",
   "execution_count": 8,
   "metadata": {},
   "outputs": [
    {
     "name": "stdout",
     "output_type": "stream",
     "text": [
      "cpu\n"
     ]
    }
   ],
   "source": [
    "print(base_model.device)"
   ]
  },
  {
   "cell_type": "code",
   "execution_count": 4,
   "metadata": {},
   "outputs": [
    {
     "name": "stdout",
     "output_type": "stream",
     "text": [
      "MPTForCausalLM(\n",
      "  (transformer): MPTModel(\n",
      "    (wte): SharedEmbedding(20480, 3072)\n",
      "    (emb_drop): Dropout(p=0.0, inplace=False)\n",
      "    (blocks): ModuleList(\n",
      "      (0-31): 32 x MPTBlock(\n",
      "        (norm_1): LPLayerNorm((3072,), eps=1e-05, elementwise_affine=True)\n",
      "        (attn): MultiheadAttention(\n",
      "          (Wqkv): Linear(in_features=3072, out_features=9216, bias=True)\n",
      "          (out_proj): Linear(in_features=3072, out_features=3072, bias=True)\n",
      "        )\n",
      "        (norm_2): LPLayerNorm((3072,), eps=1e-05, elementwise_affine=True)\n",
      "        (ffn): MPTMLP(\n",
      "          (up_proj): Linear(in_features=3072, out_features=12288, bias=True)\n",
      "          (down_proj): Linear(in_features=12288, out_features=3072, bias=True)\n",
      "        )\n",
      "        (resid_attn_dropout): Dropout(p=0.0, inplace=False)\n",
      "        (resid_ffn_dropout): Dropout(p=0.0, inplace=False)\n",
      "      )\n",
      "    )\n",
      "    (norm_f): LPLayerNorm((3072,), eps=1e-05, elementwise_affine=True)\n",
      "  )\n",
      ")\n",
      "Embedding\n",
      "SharedEmbedding(20480, 3072)\n",
      "First Transformer Block\n",
      "{'training': False, '_parameters': OrderedDict(), '_buffers': OrderedDict(), '_non_persistent_buffers_set': set(), '_backward_pre_hooks': OrderedDict(), '_backward_hooks': OrderedDict(), '_is_full_backward_hook': None, '_forward_hooks': OrderedDict(), '_forward_hooks_with_kwargs': OrderedDict(), '_forward_hooks_always_called': OrderedDict(), '_forward_pre_hooks': OrderedDict(), '_forward_pre_hooks_with_kwargs': OrderedDict(), '_state_dict_hooks': OrderedDict(), '_state_dict_pre_hooks': OrderedDict(), '_load_state_dict_pre_hooks': OrderedDict(), '_load_state_dict_post_hooks': OrderedDict(), '_modules': OrderedDict({'norm_1': LPLayerNorm((3072,), eps=1e-05, elementwise_affine=True), 'attn': MultiheadAttention(\n",
      "  (Wqkv): Linear(in_features=3072, out_features=9216, bias=True)\n",
      "  (out_proj): Linear(in_features=3072, out_features=3072, bias=True)\n",
      "), 'norm_2': LPLayerNorm((3072,), eps=1e-05, elementwise_affine=True), 'ffn': MPTMLP(\n",
      "  (up_proj): Linear(in_features=3072, out_features=12288, bias=True)\n",
      "  (down_proj): Linear(in_features=12288, out_features=3072, bias=True)\n",
      "), 'resid_attn_dropout': Dropout(p=0.0, inplace=False), 'resid_ffn_dropout': Dropout(p=0.0, inplace=False)}), 'use_pad_tok_in_ffn': True, '_is_hf_initialized': True}\n"
     ]
    }
   ],
   "source": [
    "print(base_model)\n",
    "# Access the embedding layer\n",
    "embedding_layer = base_model.transformer.wte\n",
    "print(\"Embedding\")\n",
    "print(embedding_layer)\n",
    "\n",
    "# Access the first transformer block\n",
    "first_transformer_block = base_model.transformer.blocks[0]\n",
    "print(\"First Transformer Block\")\n",
    "print(vars(first_transformer_block))\n",
    "\n",
    "# # Access the self-attention layer within the first transformer block\n",
    "# self_attention_layer = first_transformer_block.attn\n",
    "# print(\"Self-Attention Layer\")\n",
    "# print(self_attention_layer)"
   ]
  },
  {
   "cell_type": "code",
   "execution_count": 4,
   "metadata": {},
   "outputs": [],
   "source": [
    "def print_model_parameters(model, num_only=False):\n",
    "    if num_only:\n",
    "        print(f\"Number of parameters: {model.num_parameters()}\")\n",
    "        return\n",
    "    for name, param in model.named_parameters():\n",
    "        print(f\"Layer: {name} | Size: {param.size()} | Trainable: {param.requires_grad}\")"
   ]
  },
  {
   "cell_type": "code",
   "execution_count": 5,
   "metadata": {},
   "outputs": [],
   "source": [
    "import torch\n",
    "from torchviz import make_dot\n",
    "\n",
    "def model_graph(model):\n",
    "    # Dummy input to pass through the model\n",
    "    dummy_input = torch.ones(1, 10).long()\n",
    "\n",
    "    # Pass the dummy input through the model\n",
    "    output = model(dummy_input)\n",
    "\n",
    "    # Visualize the model\n",
    "    dot = make_dot(output.logits, params=dict(model.named_parameters()))\n",
    "    dot.render(\"huy/model_architecture\", format=\"svg\")"
   ]
  },
  {
   "cell_type": "code",
   "execution_count": 11,
   "metadata": {},
   "outputs": [],
   "source": [
    "def infer(model, tokenizer, instruction):\n",
    "    PROMPT_TEMPLATE = f\"### Câu hỏi: {instruction}\\n### Trả lời:\"  \n",
    "\n",
    "    input_prompt = PROMPT_TEMPLATE.format_map({\"instruction\": instruction})  \n",
    "\n",
    "    input_ids = tokenizer(input_prompt, return_tensors=\"pt\")  \n",
    "\n",
    "    outputs = model.generate(  \n",
    "        inputs=input_ids[\"input_ids\"].to(\"cuda\"),  \n",
    "        attention_mask=input_ids[\"attention_mask\"].to(\"cuda\"),  \n",
    "        do_sample=True,  \n",
    "        temperature=1.0,  \n",
    "        top_k=50,  \n",
    "        top_p=0.9,  \n",
    "        max_new_tokens=1024,  \n",
    "        eos_token_id=tokenizer.eos_token_id,  \n",
    "        pad_token_id=tokenizer.pad_token_id  \n",
    "    )  \n",
    "\n",
    "    response = tokenizer.batch_decode(outputs, skip_special_tokens=True)[0]  \n",
    "    response = response.split(\"### Trả lời:\")[1]\n",
    "    return response"
   ]
  },
  {
   "cell_type": "code",
   "execution_count": 12,
   "metadata": {},
   "outputs": [],
   "source": [
    "def infer_model(model, tokenizer, input):\n",
    "    response = infer(model, tokenizer, input)\n",
    "    return response"
   ]
  },
  {
   "cell_type": "code",
   "execution_count": 13,
   "metadata": {},
   "outputs": [
    {
     "name": "stdout",
     "output_type": "stream",
     "text": [
      "Number of parameters: 3688077312\n"
     ]
    }
   ],
   "source": [
    "import copy\n",
    "import gc\n",
    "\n",
    "instruction = \"Viết bài văn nghị luận xã hội về việc đi học\"\n",
    "print_model_parameters(base_model, num_only=True)"
   ]
  },
  {
   "cell_type": "code",
   "execution_count": 15,
   "metadata": {},
   "outputs": [
    {
     "name": "stdout",
     "output_type": "stream",
     "text": [
      "Number of parameters: 3574791168\n"
     ]
    },
    {
     "name": "stderr",
     "output_type": "stream",
     "text": [
      "/home/hungson175/.cache/huggingface/modules/transformers_modules/vinai/PhoGPT-4B-Chat/f56fc6d71f147a3a293fdab56676337dc6f641e1/attention.py:87: UserWarning: Propagating key_padding_mask to the attention module and applying it within the attention module can cause unnecessary computation/memory usage. Consider integrating into attn_bias once and passing that to each attention module instead.\n",
      "  warnings.warn('Propagating key_padding_mask to the attention module ' + 'and applying it within the attention module can cause ' + 'unnecessary computation/memory usage. Consider integrating ' + 'into attn_bias once and passing that to each attention ' + 'module instead.')\n"
     ]
    },
    {
     "name": "stdout",
     "output_type": "stream",
     "text": [
      "Response remove layer #22:\n",
      "Việc đi học là một trong những điều cơ bản và quan trọng nhất của đời người. Ở mọi độ tuổi, mỗi người cần đi học để tiếp thu tri thức và kỹ năng cần thiết trong cuộc sống. Có nhiều độ tuổi đi học nhưng phổ biến nhất là học sinh sinh viên vì đối tượng này cần trang bị cho mình những kiến thức cơ bản, những kỹ năng sống cần thiết và phát triển tư duy sáng tạo. Học là quá trình trau dồi tri thức, rèn kỹ năng và đạo đức, bồi đắp tri thức cần thiết. Từ xưa đến nay, học luôn là một đề tài được cả xã hội quan tâm. Từ những độ tuổi khác nhau, việc học được tiếp thu và thực hiện ở khắp các quốc gia trên thế giới. Đi học là việc đầu tiên để tiếp nhận tri thức, văn hóa của quốc gia. Từ khi bắt đầu cất tiếng khóc chào đời, ai cũng đều đến trường và khi lớn lên lại quay lại trường để hoàn thành nhiệm vụ học tập của mình. Điều này diễn ra ở khắp mọi nơi trên thế giới và là một trong những nhiệm vụ quan trọng và cơ bản nhất trong cuộc đời của một con người.\n",
      "\n",
      "Có rất nhiều cách hiểu về việc đi học, tùy thuộc vào quan niệm của từng người. Một số người quan niệm rằng đi học là khi chúng ta đang đến trường. Trường học là một lớp học, một môi trường học tập chuyên nghiệp với thầy cô, bạn bè và rất nhiều điều mà chúng ta phải học hỏi. Có rất nhiều học sinh, sinh viên phải học tập vất vả để có thể giành được thành tích tốt. Đối với các em học sinh tiểu học, trung học, trung học phổ thông còn có các cấp học cao hơn nữa như đại học, cao đẳng, cao đẳng nghề, cao đẳng từ xa. Khi theo học tại các trường này, các em không chỉ học các môn học trong chương trình được sắp xếp mà còn được học những kỹ năng sống cần thiết, phát triển khả năng sáng tạo, rèn luyện phẩm chất đạo đức, sự nỗ lực trong công việc, khả năng giao tiếp với những người xung quanh. Những sinh viên đại học được học đại học, được trang bị kiến thức chuyên sâu, nâng cao, được rèn kỹ năng học tập và làm việc. Bên cạnh đó, học tập không phải chỉ là việc học những kiến thức trên sách vở mà còn học cả những kiến thức xã hội, kiến thức cuộc sống, những kiến thức tự nhiên và xã hội xung quanh. Điều này giúp cho các sinh viên tiếp thu được nhiều kiến thức từ thực tiễn, ứng dụng kiến thức vào công việc và cuộc sống. Kiến thức xã hội và kỹ năng sống của một con người là vô cùng rộng lớn, chúng ta cần học tất cả những gì có thể. Việc học tập không phải chỉ trong một thời gian ngắn mà cần học suốt đời, không chỉ học ở trường mà học ở gia đình, xã hội, học cả trong sách vở, học thực tế. Tất cả mọi kiến thức trong đời đều nằm trong phạm vi chúng ta có thể học. Trong cuộc sống, con người có nhiều hoạt động khác nhau như học tập, lao động, nghiên cứu, sáng tạo nhưng tất cả các hoạt động đều cần thiết và có ý nghĩa nhất là học tập. Trong quá trình học tập, việc tiếp thu kiến thức là điều rất cần thiết và quan trọng, không chỉ học cho biết mà học cho hiểu và vận dụng những kiến thức vào trong cuộc sống. Học không chỉ là công việc mà còn là niềm yêu thích của nhiều người. Học tập không phải chỉ để cho những người xung quanh chúng ta biết đến mà chúng ta còn có thể học cho bản thân mình. Nếu chúng ta học, chúng ta sẽ được mở rộng hiểu biết, mở rộng kiến thức và hiểu về những quy luật của cuộc sống, của xã hội. Trong cuộc sống, có những người đã từng nói rằng \"Có học có hơn chứ không có học thì hơn\". Tuy nhiên, không phải ai đi học đều được thành công mà chính bản thân phải tự mình làm việc đó. Học không chỉ có nghĩa với những người khác mà học phải có nghĩa với bản thân. Bản thân mình phải học những thứ mình cần, mình cần học những gì thì học những thứ đó. Xã hội hiện nay, sự phát triển của đất nước đi lên kéo theo sự phát triển của giáo dục. Giáo dục đào tạo những người giỏi để trở thành công dân tốt, giúp đất nước phát triển nhanh chóng và có tiềm lực để giữ vững đất nước. Giáo dục là chìa khóa của thành công. Học tập là yếu tố đầu tiên mà mỗi người cần phải trang bị cho bản thân mình để có thể có được công việc tốt, những vị trí tốt trong công việc. Từ xa xưa đến nay, học tập được coi là nền tảng của con người, của đất nước. Không chỉ các em học sinh, sinh viên mà ngay cả những người đã đi làm, những người đang trong giai đoạn học tập vẫn còn có những người đang học, đang tìm hiểu để nắm bắt được những cơ hội, những kiến\n",
      "---------------------------------------------------\n",
      "Number of parameters: 3574791168\n",
      "Response remove layer #23:\n",
      "Ai cũng có một thời để nhớ, một thời để đi học, thời của những đứa trẻ ngây thơ và hồn nhiên, và đối với những đứa trẻ nhà tôi, nhà nó cũng giống như bao nhà khác, tôi và nó cũng đã đi qua những cái thời ấy.\n",
      "\n",
      "Chúng tôi luôn đến trường, sáng nào cũng vậy, dù có mưa hay không có mưa, dù có mệt hay không mệt, dù có ốm hay không ốm, mỗi buổi sáng mẹ đều chở tôi và nó đi học, mặc dù chỉ là đi bộ một mình nhưng nó luôn cố gắng để không bị ngã, mẹ cũng đã chở nó đi học, ngày đầu còn chưa quen, nên hai chị em đã bị ngã xe, nó cũng đã khóc, nhưng được sự động viên của mẹ, mẹ cũng đã đỡ nó lên và cùng đến lớp.\n",
      "\n",
      "Sáng mẹ chở đến trường, buổi trưa hai chị em cũng đi học, tuy có mệt một chút nhưng được cái mẹ nấu đồ ăn ngon, có trứng chiên, thịt băm và canh ngon, nó ăn rất no, hai chị em được ở bên nhau, vui chơi và không bị cô giáo mắng. Tôi không được ở bên nó nhiều nên khi nhớ nó, nó lại về thăm, hai chị em cùng nhau nấu ăn, hai chị em cũng giúp mẹ làm việc nhà, nó thì giúp mẹ rửa rau, rửa bát, tôi thì giúp mẹ nhặt rau, thái thịt và nấu canh.\n",
      "\n",
      "Chúng tôi là những đứa trẻ nhà quê, sáng sớm đã có mặt ở nhà, để cùng bố mẹ ra đồng, khi đó cũng là lúc tôi và nó thức dậy, nó thường ngồi ăn bánh kẹo trước khi ra đồng, nhìn nó với cái dáng đi bộ và đi rất nhanh, có lẽ nó rất thích được ra đồng để nhìn con trâu, con bò và biết về công việc của con trâu, nó bảo nó thấy thích. Hai chị em cũng giúp bố mẹ làm những việc nhà, rửa chén, quét nhà và lau nhà.\n",
      "\n",
      "Ngày qua ngày, chúng tôi cũng lớn, cũng phải học những thứ gì đó để trở thành những đứa trẻ giỏi giang, để thành những đứa con ngoan, và học tập ngày càng cao, bố mẹ cũng động viên hai chị em, mẹ cũng nấu cho ăn những món ngon, tôi đã học được rất nhiều điều, nhưng không phải ở đâu cũng vui vẻ, có những người đã không có tình thương, và bố mẹ luôn phải quan tâm, để ý, không được làm bố mẹ buồn, nó cũng đã lớn, đã đi làm và không thể cùng hai chị em chơi đùa, chị gái luôn giúp đỡ và đưa chúng tôi đi làm.\n",
      "---------------------------------------------------\n",
      "Number of parameters: 3574791168\n",
      "Response remove layer #24:\n",
      "Trong suốt một năm học, ngoài việc học ở trường, học tại nhà thì chúng ta còn có thể tham gia các hoạt động ngoại khóa để có thể tích lũy cho bản thân kiến thức và kinh nghiệm sống. Một trong những hoạt động ngoại khóa mà chúng ta nên tham gia đó chính là đi học.\n",
      "\n",
      "Việc đi học là một hoạt động không thể thiếu trong suốt một năm học. Đi học là việc chúng ta phải đến trường để học tập. Học là quá trình mà chúng ta tiếp thu kiến thức, rèn luyện kỹ năng, phát triển bản thân. Những điều mà chúng ta học được từ sách vở, thầy cô và thực tế cuộc sống sẽ giúp cho chúng ta trở thành một người có ích trong xã hội, trở thành một người công dân có ích.\n",
      "\n",
      "Việc đi học còn giúp cho chúng ta có thêm kỹ năng sống, rèn luyện bản thân, tự tin hơn trong các hoạt động ngoại khóa và cuộc sống hàng ngày. Khi đến trường, chúng ta có cơ hội học hỏi và giao lưu với bạn bè, thầy cô. Học tập trong một môi trường năng động và giúp đỡ những người có khó khăn trong cuộc sống. Việc học còn giúp cho chúng ta biết được nhiều kỹ năng sống mà không phải trường lớp nào cũng có như kỹ năng tự tin, giao tiếp, xử lý tình huống,...\n",
      "\n",
      "Tuy nhiên, bên cạnh những điều có ích mà việc đi học mang lại thì chúng ta cũng phải đối mặt với những điều không mong muốn. Một số bạn học sinh không coi trọng việc học, các bạn thường xuyên mải chơi, không tập trung vào việc học. Một số bạn học sinh do không có phương pháp học đúng đắn, không có sự cố gắng trong việc học dẫn đến học tập không hiệu quả, dễ bị điểm xấu. Một số bạn học sinh thường xuyên bỏ học, đi học muộn và không chuẩn bị bài trước khi đi học. Thậm chí, một số bạn học sinh còn không tập trung vào học tập, các bạn thường xuyên đi học muộn, không chuẩn bị đầy đủ sách vở, không học bài, làm bài nghiêm túc.\n",
      "\n",
      "Việc đi học tuy là việc bình thường trong cuộc sống nhưng nó cũng mang lại những ý nghĩa quan trọng đối với mỗi người. Đi học để có kiến thức, để rèn luyện bản thân, để tự tin hơn trong cuộc sống hàng ngày, để rèn kỹ năng sống,...Vì vậy, chúng ta cần phải biết coi trọng việc học, phải biết rèn kỹ năng sống, biết tự tin trong học tập và rèn luyện. Đồng thời, chúng ta cần phải xác định được mục tiêu học tập rõ ràng để học tập đạt kết quả cao nhất. Trong quá trình học tập, chúng ta cần phải biết tập trung, không đi học muộn, không bỏ qua không chuẩn bị bài trước khi đến lớp. Chúng ta phải biết tích cực học hỏi từ sách vở, thầy cô và bạn bè để nâng cao kiến thức của bản thân.\n",
      "\n",
      "Đi học là một hoạt động không thể thiếu trong suốt một năm học. Đi học không chỉ giúp cho chúng ta có kiến thức, tự tin hơn trong cuộc sống hàng ngày mà còn giúp cho chúng ta rèn kỹ năng sống. Vì vậy, chúng ta cần phải biết coi trọng việc học, rèn kỹ năng sống để có một năm học thành công.\n",
      "---------------------------------------------------\n",
      "Number of parameters: 3574791168\n",
      "Response remove layer #25:\n",
      "Trong đời sống của mỗi người, việc đi học là một việc quan trọng và không thể thiếu. Mỗi buổi sáng, chúng ta đều phải thức dậy sớm để đến trường, sau đó là một số những buổi học tại trường để rèn luyện cho chúng ta những kỹ năng, những bài học làm người, chính vì vậy mà việc đi học là một trong những quyền mà không ai có thể phủ nhận và bỏ qua. Vậy việc đi học là gì? Chúng ta cùng đi tìm hiểu.\n",
      "Đầu tiên, việc đi học là một hoạt động rất đơn giản trong cuộc sống của mỗi người chúng ta, chúng ta có thể thấy đi học bằng cách mỗi buổi sáng thức dậy ta thấy đầu óc nhẹ nhõm và không muốn đi làm hoặc ra khỏi nhà. Khi đó chúng ta chỉ có thể nghĩ là phải đi học. Vậy đi học được hiểu là một hoạt động hằng ngày của mỗi chúng ta, nó là một hoạt động không thể thiếu khi chúng ta đi học, đó là khi chúng ta cắp sách đến trường. Chúng ta không phải tự nhiên sinh ra là đã đi học mà chúng ta phải được giáo dục, chúng ta đều phải học từ lúc các bạn mới sinh cho đến khi trưởng thành thì chúng ta mới có thể tự nuôi sống bản thân và giúp ích cho gia đình xã hội.\n",
      "Trong quá trình đi học của chúng ta, nó còn cho chúng ta những kỹ năng sống, những bài học quan trọng, những bài học làm người. Không những chúng ta được học ở trên trường lớp, không những chúng ta được rèn luyện kỹ năng sống trong đời sống hằng ngày mà chúng ta còn được trau dồi, tích lũy kiến thức, rèn luyện đạo đức, chúng ta còn được học, được trau dồi kiến thức mỗi khi chúng ta lên lớp, ngoài việc được trau dồi kiến thức mà mỗi khi ta đến lớp còn được rèn luyện đạo đức và giúp ích cho đời, giúp ích cho gia đình và xã hội. Mỗi khi đi học, chúng ta lại có thể tự tin khi đi học, vì được đến trường có thầy, cô, có bạn bè cùng nhau học, cùng nhau rèn luyện và cùng nhau thực hành. Mỗi lần đến trường, chúng ta không chỉ được gặp thầy, cô giáo mà còn có các bạn cùng học trong lớp, chúng ta được chia sẻ niềm vui, nỗi buồn cùng bạn, giúp đỡ nhau trong mọi lĩnh vực. Bên cạnh đó, mỗi khi đến trường, chúng ta được học nhiều bài học làm người, chúng ta phải học cách sống làm sao cho phù hợp với những bài học của các thầy, cô, phải biết sống đúng theo chuẩn mực của gia đình, xã hội, biết sống một cách tự lập, không trông chờ dựa dẫm và được gia đình, xã hội công nhận và tôn trọng.\n",
      "Mỗi chúng ta, mỗi buổi sáng khi ngủ dậy chúng ta không thể đi học hoặc chúng ta có thể làm một việc gì khác để đến trường được. Khi chúng ta đã đến trường thì ta sẽ có những kỹ năng sống, những bài học làm người, mỗi lần đi học ta sẽ có được những kỹ năng cần thiết, những bài học quan trọng mà còn được học hỏi, trau dồi và rèn luyện những kỹ năng khác. Việc đi học là một trong những quyền lợi của con người, là những kỹ năng để ta làm những việc khác, làm những công việc, để học cách sống một cách độc lập và nuôi bản thân mình. Đi học còn giúp chúng ta được rèn luyện những bài học quý báu, những bài học làm người, cách sống độc lập, và giúp ích cho gia đình và xã hội. Chúng ta hãy học tập một cách chăm chỉ, trau dồi, rèn luyện và học hỏi những kỹ năng để chúng ta luôn luôn học tập, rèn luyện và rèn luyện những kỹ năng quan trọng.\n",
      "Qua việc đi học chúng ta đã được học tập và rèn luyện, mỗi ngày, chúng ta đều phải đi học cho đến khi chúng ta đã hoàn thành việc học và chúng ta không thể đi học nữa và không có kiến thức, kỹ năng. Chính vì điều này, chúng ta cần phải đi học vì đi học không những là quyền lợi của chúng ta, mà còn là quyền lợi của những người khác.\n",
      "---------------------------------------------------\n",
      "Number of parameters: 3574791168\n",
      "Response remove layer #26:\n",
      "Trong cuộc đời con người, ai cũng trải qua thời cắp sách tới trường. mười hai năm học, một quãng thời gian vô cùng quan trọng của một đời người. Quãng thời gian đó, không phải là quá dài nhưng lại có biết bao kỷ niệm đẹp đẽ. Hình ảnh những cô cậu học sinh cắp sách đến trường luôn để lại những ấn tượng đẹp trong tâm trí mỗi người. Và chắc hẳn, khi nhắc đến những kỷ niệm về một thời cắp sách đến trường không thể không nhắc đến hình ảnh của các bạn học sinh đang hăng say ngồi trên ghế nhà trường cùng với sách vở và bút mực. Đó chính là hình ảnh đẹp đẽ nhất, sinh động nhất của tuổi học trò.\n",
      "Thật vậy, tuổi học trò là một quãng thời gian vô cùng quý giá trong cuộc đời con người. Ở giai đoạn này, ta được tiếp thu những tri thức cơ bản nhất từ các thầy, các cô giáo dạy dỗ, kèm cặp. Ở giai đoạn này, chúng ta được lớn lên trong tình yêu thương của gia đình, trong sự dìu dắt, dạy dỗ của các thầy, các cô giáo. Thầy cô giáo không chỉ truyền cho chúng ta tri thức mà còn rèn luyện cho ta những kĩ năng sống để trở thành người thành đạt trong cuộc sống. Vì vậy, việc học tập là một việc rất quan trọng, cần thiết cho chúng ta.\n",
      "Các bạn biết không, trong suốt mười hai năm đèn sách, chúng ta đã được trang bị cho mình những tri thức, hiểu biết về mọi mặt trong cuộc sống. Tuy nhiên, không phải ai cũng có thể thành đạt, thành công trên con đường học vấn. Nhưng dù sao, chúng ta cũng phải công nhận rằng, những người thành đạt là những người đã trải qua con đường học vấn lâu dài, nghiêm túc, đã chăm chỉ học tập, rèn luyện, đã biết chịu đựng những khó khăn, gian khổ của cuộc sống và hơn nữa, họ còn có cái tâm trong sáng, lòng quyết tâm, ý chí vươn lên.\n",
      "Một trong những tấm gương tiêu biểu cho sự thành đạt trên con đường học vấn phải nói đến bạn Đặng Thái Sơn, sinh viên trường Nhạc viện Hà Nội. Với niềm đam mê, sự nỗ lực không ngừng, Sơn đã trở thành người châu Á đầu tiên vinh dự giành được giải Nhất cuộc thi Piano quốc tế. Đây là một thành công lớn của Việt Nam trên đấu trường quốc tế và là niềm tự hào, niềm hạnh phúc cho gia đình, nhà trường và cả xã hội.\n",
      "Hay như các bạn Nguyễn Minh Tú, học sinh lớp 5B, trường Tiểu học Nguyễn Trãi đã đạt giải Nhất trong cuộc thi Em yêu khoa học do đài Truyền hình Việt Nam tổ chức. Đây là một cuộc thi đầy ý nghĩa, một sân chơi cho các em học sinh được thử sức mình, được thể hiện tình yêu đối với khoa học. Dù không giành được giải Nhất, nhưng việc được vinh danh là một trong năm bạn học sinh xuất sắc của vòng chung kết cũng là một sự động viên, khích lệ rất lớn cho các em học sinh tiếp tục phấn đấu, học tập.\n",
      "Những tấm gương của các bạn Đặng Thái Sơn, Nguyễn Minh Tú tuy khác nhau về điều kiện học tập nhưng đều có một điểm chung là đã chăm chỉ học tập, rèn luyện và biết vượt lên chính mình. Đó là những tấm gương đáng để chúng ta học tập.\n",
      "Các bạn biết không, sách vở và bút mực không chỉ là công cụ hỗ trợ đắc lực cho chúng ta trong việc học tập mà nó còn là những người bạn thân thiết, tri kỉ của mỗi người. Việc học tập không chỉ là trách nhiệm, nghĩa vụ của mỗi người mà đó còn là niềm đam mê, niềm vui của mỗi người. Bởi ai trong chúng ta cũng có một ước mơ, một khao khát riêng của mình.\n",
      "Khi cầm trên tay quyển sách, cuốn vở là khi ta cảm thấy trong lòng mình tràn đầy niềm vui, sự hứng thú. Việc học tập cũng vậy, mỗi người hãy rèn cho mình thói quen, ý thức học tập. Không chỉ là việc học tập, đọc sách mà là phải học tập, rèn luyện thật tốt.\n",
      "Chúng ta hãy hiểu rằng, cuộc sống luôn thay đổi, luôn phát triển, sách vở, bút mực cũng cần thay đổi, cập nhật để theo kịp với sự tiến bộ của cuộc sống, của khoa học, của xã hội. Bởi vậy, việc học tập không chỉ trong sách vở mà còn phải được áp dụng vào cuộc sống, vào mọi hoàn cảnh, mọi tình huống. Trong cuộc sống, không ai dám chắc rằng những gì mình có trong tay là bền vững, là mãi mãi.\n",
      "Vậy nên, chúng ta hãy sống với nhau bằng cái tâm trong sáng, bằng cái lòng yêu thương, bằng sự đoàn kết, giúp đỡ nhau trong cuộc sống hàng ngày. Phải biết giúp đỡ người khác khi người khác gặp khó khăn, hoạn nạn. Chỉ khi chúng ta biết yêu thương và giúp đỡ người khác thì khi ấy, chúng ta sẽ nhận lại được những gì mà mình mong muốn.\n",
      "Tuổi học trò còn đẹp đẽ hơn khi chúng ta cùng nhau cắp sách\n",
      "---------------------------------------------------\n",
      "Number of parameters: 3574791168\n",
      "Response remove layer #27:\n",
      "Bước đến trường, một thế giới mới lạ đang đón chờ ta. Nơi đây, có thầy cô kính yêu, có bạn bè quý mến, có kiến thức vô tận, có những điều mới mẻ đang chờ ta khám phá.\n",
      "Trong những bức tranh sống động của tuổi thơ, tôi nhớ nhất là những ngày tựu trường. Sáng hôm ấy, tôi dậy sớm hơn thường lệ. Bao nhiêu năm đã trôi qua nhưng trong ký ức của mình, cái cảm giác khi đó vẫn không hề phai nhạt. Đó là cảm giác vừa háo hức vừa lo lắng, có lẽ là lo lắng nhiều hơn. Tôi không hề muốn rời xa vòng tay êm ấm của mẹ, rời xa cái hơi ấm nồng nàn từ chiếc chõng tre quen thuộc.\n",
      "Mẹ đã dắt tay tôi đi trên con đường làng quen thuộc. Cảnh vật hôm nay rất lạ. Trời thu như cao và xanh hơn. Lòng tôi tràn đầy một cảm xúc mới mẻ, vừa lo lắng vừa háo hức xen lẫn. Mẹ âu yếm nhìn tôi và dẫn tôi đến cổng trường. Trước mắt tôi, cánh cổng trường khép kín. Tôi thấy lạ. Tôi hỏi mẹ rằng ai đang đứng ngoài đó. Mẹ nói: \"Là Bác bảo vệ và các anh chị lớp trên con ạ\". Tôi mạnh dạn bước qua cánh cổng và tiến đến sân trường.\n",
      "Trường tôi rất rộng và đẹp. Sân trường rộng được quét dọn sạch sẽ và được phủ bóng mát bởi những hàng phượng vĩ và cây bàng. Trên sân trường có một số loài hoa đang nở rộ. Tôi bước đến bảng lớp, đập vào mắt tôi là tấm bảng lớp 1A. Tôi có chút bỡ ngỡ vì không nghĩ rằng mình là học sinh lớp Một. Cô giáo đã vẫy tay chào đón chúng tôi. Tôi chạy vào lớp và cô giáo đưa cho tôi một chiếc bàn con và một chiếc ghế. Tôi ôm tất cả vào lòng và cảm thấy mình như đang được mẹ âu yếm ôm ấp. Tôi cảm thấy rất thú vị vì được học trong lớp học mới của mình.\n",
      "Cô giáo đã cho tôi biết về các bạn và cô giáo trong lớp. Cô còn giới thiệu cho tôi biết về cô và công việc của cô. Cô giáo của tôi tên là Thanh và cô đã dạy lớp 1C. Buổi học đầu tiên, cô đã giới thiệu cho chúng tôi biết từng người trong lớp. Chúng tôi rất vui được học cùng cô Thanh và tôi đã tự giới thiệu: Tên của tôi là Minh và tôi là học sinh lớp 1C. Cô Thanh cười và xoa đầu tôi. Thế là từ đó, tôi có thêm một người bạn mới. Buổi học đầu tiên đã giúp tôi hiểu rằng đi học thực sự là một điều rất vui và thú vị.\n",
      "Buổi học đầu tiên của lớp 1 đã cho tôi một ấn tượng khó phai. Trong lòng tôi thầm nhủ rằng: Nhất định mình sẽ cố gắng học tập thật tốt để những năm tháng đẹp đẽ nhất của cuộc đời học sinh trôi qua thật ý nghĩa.\n",
      "---------------------------------------------------\n",
      "Number of parameters: 3574791168\n",
      "Response remove layer #28:\n",
      "Mỗi năm, khi mùa hè đến, học sinh từ các cấp Mầm non đến Trung học phổ thông lại rạo rực chuẩn bị cho những ngày tháng đầy gian nan nhưng cũng không kém phần thú vị của năm học mới. Việc đi học có vẻ như là một vấn đề quá đỗi bình thường nhưng thực tế thì lại hoàn toàn không như thế. Đi học với mỗi người là một niềm vui, niềm háo hức, mong chờ, tuy nhiên, với một số người thì nó lại là cả một gánh nặng, một sự ám ảnh.\n",
      "Việc đi học đôi khi không chỉ để tiếp thu tri thức mà còn là niềm vui, niềm hạnh phúc khi nhận được những ánh mắt yêu thương, những sự quan tâm, những lời khích lệ từ thầy cô giáo và những người xung quanh.\n",
      "Đi học là để trau dồi kiến thức, để khám phá thế giới xung quanh, để rèn luyện bản thân và trở thành những người có ích cho gia đình và xã hội. Tuy nhiên, đôi khi việc đi học lại không đạt được những điều mà ta mong muốn. Có những người đi học quá nhiều và dường như đã bỏ lỡ quá nhiều niềm vui của tuổi thơ. Có những người đã lãng phí thời gian, đã bỏ lỡ những khoảnh khắc hạnh phúc và những cơ hội khám phá thế giới xung quanh vì đi học. Việc học tập của mỗi người là quan trọng nhưng không vì thế mà ta lại áp đặt và biến nó thành một gánh nặng. Để việc học tập không trở thành áp lực, trở thành nỗi ám ảnh, ta cần biết phân bổ thời gian học tập một cách hợp lý, không quá tải. Chúng ta không chỉ học trên sách vở mà còn phải học trong thực tế, học từ những trải nghiệm của bản thân, học từ những người xung quanh. Học tập không phải chỉ để áp đặt vào bản thân, cũng không chỉ để đáp ứng nhu cầu của thầy cô giáo mà còn để tự khẳng định bản thân, để mình trở thành một người hữu ích cho gia đình và xã hội.\n",
      "Việc đi học có vai trò rất quan trọng đối với mỗi người. Nó giúp ta rèn luyện và phát triển các kĩ năng cần thiết như giao tiếp, xử lí tình huống, tự tin, kiên trì và không ngừng học hỏi, trau dồi kiến thức. Việc học tập trong một môi trường đầy đủ tiện nghi như giáo dục hiện nay là rất cần thiết để trở thành những người tri thức, đủ sức hội nhập và đáp ứng được những yêu cầu khắt khe của môi trường xã hội. Thế nên, mỗi người chúng ta cần có ý thức hơn trong việc đi học, phân bổ thời gian hợp lý và không ngừng học hỏi, trau dồi kiến thức để trở thành những người có ích cho gia đình và xã hội. Đi học không chỉ là trách nhiệm mà còn là niềm vui, là sự mong chờ, sự háo hức khi được tiếp xúc với tri thức mới, được khám phá những điều thú vị xung quanh, được tìm kiếm những cơ hội để phát triển bản thân.\n",
      "Đi học, đó là việc cần thiết và quan trọng, là cơ sở để mỗi người chúng ta trưởng thành và trở thành những người có ích cho xã hội. Vì vậy, mỗi người cần biết phân bổ thời gian học tập hợp lý để không lãng phí thời gian, không bỏ lỡ những khoảnh khắc hạnh phúc, không làm mất đi cơ hội để phát triển bản thân. Đi học, đó không chỉ là trách nhiệm mà còn là niềm vui, là sự mong chờ, sự háo hức khi được tiếp xúc với tri thức mới, được khám phá những điều thú vị xung quanh, được tìm kiếm những cơ hội để phát triển bản thân. Vì vậy, hãy đi học đúng giờ, học tập không chỉ vì trách nhiệm mà còn vì niềm vui và hạnh phúc. Hãy để việc đi học không chỉ là trách nhiệm, hãy để việc đi học trở thành niềm vui, niềm hạnh phúc. Hãy để mỗi ngày đi học là một ngày vui. Có như thế, việc học tập mới không trở thành gánh nặng, không trở thành áp lực và niềm vui mới thực sự là niềm vui.\n",
      "---------------------------------------------------\n",
      "Number of parameters: 3574791168\n",
      "Response remove layer #29:\n",
      "Việc đi học là việc quan trọng đối với mỗi con người. Từ khi lọt lòng đến khi trưởng thành, thì việc đi học là bước ngoặt lớn nhất của mỗi con người. Đi học là nghĩa vụ, bổn phận của mỗi người, học sinh là tương lai của đất nước, vậy đi học có tầm quan trọng như thế nào? Đi học là việc quan trọng đối với mỗi người, học sinh là tương lai của đất nước. Việc học là một hoạt động của con người tiếp nhận kiến thức của thầy cô giáo, những người làm việc truyền đạt kiến thức.\n",
      "Nếu không có học thì ta sẽ không có kiến thức để làm việc, để phục vụ cho đất nước, xã hội. Chính vì vậy mà từ xưa, ông cha ta đã nói: \" học tập là việc cả đời\", một kho tàng kiến thức được tích lũy từ xưa cho đến nay vẫn luôn được truyền đạt cho con cháu học. Học không chỉ đơn thuần là việc đến trường, học sách vở mà học còn phải học trong cuộc sống, học từ những cái đơn giản nhất đến những cái khó khăn nhất, học phải gắn liền với thực hành, với công việc.\n",
      "Bởi việc học như thế mới giúp cho ta trưởng thành, ta có kiến thức để phục vụ cho bản thân và phục vụ cho đất nước. Cũng có câu nói rằng \" học mà không hành thì vô ích, hành mà không học thì không thành công\", đúng là học để lại được những kinh nghiệm để ta có thể phục vụ cho đất nước. Trong lịch sử dân tộc Việt Nam, chúng ta có thể thấy được ai là người thành công đều có sự kết hợp giữa lí thuyết và thực tiễn. Chính vì vậy mà việc học tập luôn luôn gắn liền với thực tiễn. Khi còn ngồi trên ghế nhà trường thì học sinh phải học, sau khi tốt nghiệp thì người học sinh phải áp dụng kiến thức đã học vào cuộc sống.\n",
      "Người ta vẫn thường nói rằng \"học mà không hành thì vô ích, hành mà không học thì không thành công\" quả là như vậy. Khi học phải biết áp dụng những kiến thức ấy vào cuộc sống, đem những kiến thức ấy vận dụng vào công việc thì sẽ đạt được hiệu quả tốt nhất, công việc mới đạt được kết quả tốt đẹp nhất. Việc học tập phải được tiến hành mọi lúc, mọi nơi chứ không chỉ ở trường học và nhà, vì kiến thức có ở khắp mọi nơi, trong đời sống xung quanh ta.\n",
      "Nếu ta có kiến thức mà không áp dụng vào cuộc sống thì kiến thức ấy cũng trở nên vô ích, nó chỉ tồn tại mà không phát huy được hết chức năng. Trong cuộc sống có nhiều tấm gương sáng về việc áp dụng kiến thức học tập vào cuộc sống. Có thể thấy Nguyễn Trãi đã áp dụng kiến thức của mình để sáng tác ra bài \" Cảnh ngày hè\" nổi tiếng, có thể áp dụng kiến thức văn học, lịch sử để làm nên bài thơ tuyệt vời như vậy. Chính vì thế ta có thể thấy rằng việc học tập gắn liền với thực tiễn đem lại cho ta nhiều lợi ích.\n",
      "Tuy nhiên, bên cạnh những học sinh chăm chỉ học tập, áp dụng kiến thức đã học vào cuộc sống thì cũng còn những học sinh lười biếng, học không đúng phương pháp, không áp dụng kiến thức vào cuộc sống. Chính vì thế mà những học sinh ấy có thể đạt kết quả không cao trong học tập. Một đất nước muốn phát triển thì đất nước ấy cần có nhiều người tài giỏi. Chính vì vậy, việc học là một nhiệm vụ quan trọng đối với mỗi con người.\n",
      "Đất nước phát triển hay không, dân tộc ấy có sánh vai với các cường quốc năm châu hay không là phụ thuộc rất lớn vào thế hệ học sinh hôm nay. Vậy nên mỗi học sinh phải ý thức được tầm quan trọng của việc học để có thể nhận thức và đưa ra cho mình một phương pháp học tập sao cho đúng đắn và hiệu quả. Cha mẹ học sinh cần có sự định hướng và lựa chọn phương pháp học sao cho phù hợp nhất với từng học sinh, để học sinh có thể tiếp thu kiến thức một cách hiệu quả nhất.\n",
      "Đi học là việc quan trọng đối với mỗi người. Nó không chỉ giúp cho ta có kiến thức để làm việc, phục vụ cho đất nước mà nó còn giúp cho ta thành công hơn trong cuộc sống. Vì vậy mỗi học sinh chúng ta cần phải có ý thức học tập tốt.\n",
      "---------------------------------------------------\n",
      "Number of parameters: 3574791168\n",
      "Response remove layer #30:\n",
      "Đi học là nhu cầu tất yếu của con người.\n",
      "Đúng vậy, đi học là nhu cầu tất yếu của con người, bởi vì tri thức của nhân loại là biển cả bao la, luôn luôn cần được khám phá và chiếm lĩnh, còn đời người là hữu hạn, không thể dừng lại ở bất cứ nơi nào trên dòng chảy thời gian, do vậy, việc đi học là điều tất yếu. Đi học không chỉ mở ra cánh cửa tri thức, giúp con người chiếm lĩnh được những đỉnh cao của tri thức loài người, mà còn giúp con người mở rộng tầm nhìn về thế giới, về những điều đang diễn ra xung quanh ta. Hơn thế nữa, đi học còn giúp con người rèn luyện những kĩ năng sống cơ bản, giúp hình thành nhân cách và bản lĩnh trong cuộc sống sau này. Nhờ đi học, ta biết cách ứng xử sao cho đúng mực, biết nói lời hay, làm việc tốt, biết sống đoàn kết yêu thương, biết chấp hành kỉ cương, pháp luật... Tất cả những điều này, góp phần hoàn thiện nhân cách con người. Đi học là một quyền lợi, nghĩa vụ và trách nhiệm của mỗi người, bởi vậy, đi học là nhu cầu tất yếu của con người, là điều tất yếu của cuộc sống. Tuy nhiên, hiện nay, khi mà xã hội ngày càng phát triển, đời sống vật chất, tinh thần của con người ngày càng được nâng cao, thì nhu cầu đi học cũng cần được nhìn nhận dưới nhiều góc độ. Bên cạnh những người đi học vì nhu cầu tất yếu, nhằm mở rộng tri thức, kĩ năng sống, thì có một số người đi học chỉ vì điểm số, vì những lời khen ngợi, vì sự kì vọng của gia đình, vì sự đua đòi, bắt chước của bạn bè, thậm chí là vì những lí do cá nhân, không chính đáng khác. Điều này, thực sự đáng phê phán. Tuy nhiên, nếu nhìn nhận một cách khách quan, thì tất cả những điều này đều do nhận thức, thái độ, suy nghĩ của con người. Khi có nhận thức đúng đắn về ý nghĩa của việc đi học, thì tất cả những điều này sẽ trở nên bình thường, vô nghĩa lí. Và như vậy, việc đi học của mỗi người, trước hết là quyền lợi, nghĩa vụ và trách nhiệm của mỗi người, nó là tất yếu của cuộc sống, nhưng điều quan trọng hơn là mỗi người phải có nhận thức đúng đắn về nó. Đi học, không đơn thuần chỉ là sự tiếp nhận tri thức, kĩ năng sống, mà hơn thế, đi học còn là cả quá trình rèn luyện và hình thành nhân cách con người. Có nhận thức đúng đắn về đi học, thì tất cả những điều này sẽ không còn là điều đáng phê phán, mà hơn thế, nó trở thành điều tất yếu của cuộc sống, của mỗi người. Tóm lại, đi học là nhu cầu tất yếu của con người, nhưng điều quan trọng hơn là mỗi người phải có nhận thức đúng đắn về điều tất yếu đó. Có nhận thức đúng đắn về đi học, thì tất cả những điều này sẽ không còn là điều đáng phê phán, mà hơn thế, nó trở thành điều tất yếu của cuộc sống, của mỗi người.\n",
      "---------------------------------------------------\n",
      "Number of parameters: 3574791168\n",
      "Response remove layer #31:\n",
      " xã hội hiện đại ngày nay đang phát triển một cách nhanh chóng, kéo theo đó là sự phát triển của công nghệ thông tin, sự phát triển của kinh tế và cả những thay đổi trong quan niệm xã hội. Tuy nhiên, việc đi học vẫn luôn là một trong những vấn đề quan trọng nhất đối với mỗi con người trong xã hội này. đi học không chỉ là một công việc, một nhiệm vụ mà nó còn là một trong những quyền cơ bản của con người. đi học mang lại cho mỗi người những kiến thức, những giá trị văn hóa, những kỹ năng sống cần thiết để họ có thể thích nghi được với xã hội này, xã hội đang phát triển không ngừng và, không ngừng thay đổi. đi học không chỉ mang lại cho mỗi người những giá trị vật chất mà nó còn mang lại cho mỗi người những giá trị tinh thần vô cùng to lớn. đi học mang lại cho mỗi người những giá trị tinh thần vô cùng to lớn, nó không chỉ mang lại cho mỗi người những kiến thức cơ bản mà nó còn mang lại cho mỗi người những giá trị văn hóa vô cùng to lớn. đi học mang lại cho mỗi người những giá trị văn hóa vô cùng to lớn, nó không chỉ mang lại cho mỗi người những giá trị văn hóa cơ bản mà nó còn mang lại cho mỗi người những giá trị văn hóa vô cùng to lớn, nó không chỉ mang lại cho mỗi người những giá trị văn hóa cơ bản mà nó còn mang lại cho mỗi người những giá trị văn hóa vô cùng to lớn, nó không chỉ mang lại cho mỗi người những giá trị văn hóa cơ bản mà nó còn mang lại cho mỗi người những giá trị văn hóa vô cùng to lớn, nó không chỉ mang lại cho mỗi người những giá trị văn hóa cơ bản mà nó còn mang lại cho mỗi người những giá trị văn hóa vô cùng to lớn, nó không chỉ mang lại cho mỗi người những giá trị văn hóa cơ bản mà nó còn mang lại cho mỗi người những giá trị văn hóa vô cùng to lớn, nó không chỉ mang lại cho mỗi người những giá trị văn hóa cơ bản mà nó còn mang lại cho mỗi người những giá trị văn hóa vô cùng to lớn, nó không chỉ mang lại cho mỗi người những giá trị văn hóa cơ bản mà nó còn mang lại cho mỗi người những giá trị văn hóa vô cùng to lớn, nó không chỉ mang lại cho mỗi người những giá trị văn hóa cơ bản mà nó còn mang lại cho mỗi người những giá trị văn hóa vô cùng to lớn, nó không chỉ mang lại cho mỗi người những giá trị văn hóa cơ bản mà nó còn mang lại cho mỗi người những giá trị văn hóa vô cùng to lớn, nó không chỉ mang lại cho mỗi người những giá trị văn hóa cơ bản mà nó còn mang lại cho mỗi người những giá trị văn hóa vô cùng to lớn, nó không chỉ mang lại cho mỗi người những giá trị văn hóa cơ bản mà nó còn mang lại cho mỗi người những giá trị văn hóa vô cùng to lớn, nó không chỉ mang lại cho mỗi người những giá trị văn hóa cơ bản mà nó còn mang lại cho mỗi người những giá trị văn hóa vô cùng to lớn, nó không chỉ mang lại cho mỗi người những giá trị văn hóa cơ bản mà nó còn mang lại cho mỗi người những giá trị văn hóa vô cùng to lớn, nó không chỉ mang lại cho mỗi người những giá trị văn hóa cơ bản mà nó còn mang lại cho mỗi người những giá trị văn hóa vô cùng to lớn, nó không chỉ mang lại cho mỗi người những giá trị văn hóa cơ bản mà nó còn mang lại cho mỗi người những giá trị văn hóa vô cùng to lớn, nó không chỉ mang lại cho mỗi người những giá trị văn hóa cơ bản mà nó còn mang lại cho mỗi người những giá trị văn hóa vô cùng to lớn, nó không chỉ mang lại cho mỗi người những giá trị văn hóa cơ bản mà nó còn mang lại cho mỗi người những giá trị văn hóa vô cùng to lớn, nó không chỉ mang lại cho mỗi người những giá trị văn hóa cơ bản mà nó còn mang lại cho mỗi người những giá trị văn hóa vô cùng to lớn, nó không chỉ mang lại cho mỗi người những giá trị văn hóa cơ bản mà nó còn mang lại cho mỗi người những giá trị văn hóa vô cùng to lớn, nó không chỉ mang lại cho mỗi người những giá trị văn hóa cơ bản mà nó còn mang lại cho mỗi người những giá trị văn hóa vô cùng to lớn, nó không chỉ mang lại cho mỗi người những giá trị văn hóa cơ bản mà nó còn mang lại cho mỗi người những giá trị văn hóa vô cùng to lớn, nó không chỉ mang lại cho mỗi người những giá trị văn hóa cơ bản mà nó còn mang lại cho mỗi người những giá trị văn hóa vô cùng to lớn, nó không chỉ mang lại cho mỗi người những giá trị văn hóa cơ bản mà nó còn mang lại cho mỗi người những giá trị văn hóa vô cùng to lớn, nó không chỉ mang lại cho mỗi người những giá trị văn hóa cơ bản mà nó còn mang lại cho mỗi\n",
      "---------------------------------------------------\n"
     ]
    }
   ],
   "source": [
    "# Single layer reduction\n",
    "# for i, _ in enumerate(base_model.transformer.blocks):\n",
    "for i in range(22,32):\n",
    "    # Copy model and remove layers\n",
    "    new_model = copy.deepcopy(base_model)\n",
    "    del new_model.transformer.blocks[i]\n",
    "    print_model_parameters(new_model, num_only=True)\n",
    "    new_model.to(\"cuda\")\n",
    "    new_model.eval()\n",
    "\n",
    "    # Infer\n",
    "    res = infer_model(new_model, tokenizer, instruction)\n",
    "    print(f'Response remove layer #{i}:')\n",
    "    print(res)\n",
    "    print('---------------------------------------------------')\n",
    "    \n",
    "    # Delete model\n",
    "    new_model.to(\"cpu\")\n",
    "    del new_model\n",
    "    gc.collect()\n",
    "    torch.cuda.empty_cache()\n"
   ]
  },
  {
   "cell_type": "code",
   "execution_count": 14,
   "metadata": {},
   "outputs": [
    {
     "name": "stdout",
     "output_type": "stream",
     "text": [
      "Number of parameters: 3234932736\n"
     ]
    },
    {
     "name": "stderr",
     "output_type": "stream",
     "text": [
      "/home/hungson175/.cache/huggingface/modules/transformers_modules/vinai/PhoGPT-4B-Chat/f56fc6d71f147a3a293fdab56676337dc6f641e1/attention.py:87: UserWarning: Propagating key_padding_mask to the attention module and applying it within the attention module can cause unnecessary computation/memory usage. Consider integrating into attn_bias once and passing that to each attention module instead.\n",
      "  warnings.warn('Propagating key_padding_mask to the attention module ' + 'and applying it within the attention module can cause ' + 'unnecessary computation/memory usage. Consider integrating ' + 'into attn_bias once and passing that to each attention ' + 'module instead.')\n"
     ]
    },
    {
     "name": "stdout",
     "output_type": "stream",
     "text": [
      "Response remove layers #20-23:\n",
      "Đi học. Từ lâu, con người có nhu cầu vật chất và tinh thần cần có những thứ cần thiết, từ thời trang cho con người, vật chất cho con người mà người dân lao động không có thời gian và không biết cách sử dụng. Trong xã hội, nhu cầu con người phát triển và đã đưa vào cho sản xuất, thì lúc đó đất nước phải chuẩn bị, còn lại thì những người già và những em nhỏ chưa được có nên việc của đất nước rất quan trọng là cần có lớp đi học là cho con em. Vì người già và các em thì không phải là lớp cũng như những nhà doanh nghiệp sản xuất kinh doanh về lương thực, thực phẩm, dược phẩm... đều phải được đào tạo. Lớp để cho con em có thể đào tạo để phát triển con người của đất nước.\n",
      "Đi học, là con người sống và học tập, có được sự thành công, đó là quá trình vận hành, học từ những cái cụ thể đến những điều mà con người cần biết. Đi học, rất quan trọng cho cuộc sống, để giúp cho con người trở lại, với những kiến thức cần có, để vận hành cho sản xuất và cuộc sống. Có con người thì phát triển mạnh cho xã hội. Từ việc xây dựng và phát triển đất nước, nên từ việc chăm sóc, nuôi dưỡng, nên có các lớp, tạo sự vận hành của đất nước. Đất nước nên phát triển và có sự phát triển tốt. Nếu đất nước mà phát triển thì các em học sinh có những thuận lợi để nâng cao sự học tập, giúp cho học sinh phát triển và phát triển cho đất nước.\n",
      "Đối với đất nước, việc quan trọng cho việc làm như vậy, thì con người được quan trọng, đi học, không quan trọng cũng cho một đời người không chỉ con người quan trọng là cần có những kỹ thuật, giúp con người làm những cái. Đó là một con người, nhưng đối với những người đi làm, sự thành công của họ, giúp con người, vì vậy mà đất nước nên đi học. Đối với họ cũng không chỉ có được sự quan tâm để cho con người cần được phát triển mà nó còn là cái mà đất nước, để có thể vận hành phát triển cho sản xuất, đi học có thể là các bậc cao, mà nó lại là cơ sở, cho con người. Đất nước cần đến con người để phát triển sản xuất kinh doanh.\n",
      "Cho sự quan trọng của việc đi học, thì việc tạo việc học hiện nay là vô cùng quan trọng và cần có những thời gian. Con người, đất nước là vấn đề trọng đại và nó sẽ phát triển và đưa đất nước ra những quyết định đúng đắn. Nó là những việc làm, sự quan tâm hàng ngày của con người, đối với sự sống và sinh trưởng phát triển của cơ thể, cũng như những điều phát triển của quốc gia.\n",
      "Khi đất nước ngày một phát triển và có một cách tốt, phát triển tốt, thì nó đã thu hút được sự quan tâm của các bạn không chỉ là những nhà công nghiệp, sản xuất, và những người được các cơ quan phát hiện mà hiện nay trong công ty, doanh nghiệp, những người làm việc được sự quan trọng và sức mạnh của con người, đối với các ngành phát triển của đất nước. Những người học sinh, khi được phát hiện ra, người thì giúp đất nước về sức lực, con người là điều quan trọng mà người được các cơ quan, trường học cấp những điều kiện để học và học ở trường. Vậy, đối với người học sinh, việc đi học, đặc biệt việc đi học đối với những người giáo dục, đó là vô cùng quan trọng.\n",
      "Đi học phải đối với mọi người. Sự phát triển về kinh tế của con người nhưng đồng thời là đi học. Người dân cần đi học, phải biết đến, của người và dân tộc ta. Nhưng trong việc dạy và học, những đứa trẻ không chỉ phát triển mà còn làm giảm sức đề kháng cho cơ thể. Trẻ con đang có cách dạy và học, đối với những người giáo viên, không chỉ biết đến lợi nhuận, của các nhà công nghiệp và sản xuất, đối với trẻ nhỏ không biết thì chưa được đưa đất nước. Chúng phải biết đến để có những kiến thức, những kinh nghiệm sống, giúp đỡ con người.\n",
      "Các bạn phải dạy, và học đối với những người thầy, người cô còn có thể là những người có thể đưa đất nước, để phục vụ cho những phát triển. Việc dạy và học là việc quan trọng của thầy và trò. Nó không những được sự quan tâm về giáo dục mà các thầy, cô giáo, đối với những người nhà sản xuất, không những có những sự quan tâm đặc biệt. Vì vậy, việc dạy và học trong các thầy, cô giáo không những có thể đưa đất nước đến mục tiêu phát triển.\n",
      "Các thầy, cô giáo là những người tạo, ra, đưa sự quan trọng việc giáo dục. Thầy và trò là những thứ, cần của giáo dục. Là những sự phát triển, cho sản xuất, nhưng không\n",
      "---------------------------------------------------\n",
      "Number of parameters: 3234932736\n",
      "Response remove layers #24-27:\n",
      "Cuộc đời con người luôn luôn cần được học, dù cho có học ở ngôi trường nào đi chăng nữa. Nhưng, không phải ai ai cũng coi việc học là một điều thú vị, ai ai cũng coi việc học là một cái gì đó rất xa xỉ, chỉ dành cho một số người mà thôi. Chính vì lẽ đó, ta cần phải đi học, không chỉ học cho vui mà học cho một số người.\n",
      "Tôi đi học là bài học đầu tiên trong cuộc sống của mỗi con người. Nó không chỉ là một bài học về lý thuyết mà nó là bài học về sự biết ơn. Biết ơn ông bà, cha mẹ đã có công nuôi dưỡng chúng ta nên người. Biết ơn người đồng bào, đồng chí đã giúp đỡ ta trong lúc chúng ta gặp khó khăn và biết ơn bạn bè đồng học đã cùng chung niềm vui, buồn vui với chúng ta. Nói chung là những người đã có công cùng với ta có ý nghĩa quan trọng nhất. Vì vậy, con người cần coi trọng việc học là như vậy. Là người ai cũng có điều đầu tiên là biết viết câu chữ.\n",
      "Ngày xưa, có lẽ mọi người đều dạy nhau học là cho vui, cho có cặp có đôi để đỡ buồn chứ chưa có cái học như bây giờ. Thời gian, thời thế nó khác.\n",
      "Có lẽ không có bất cứ ai lại muốn mất tiền, muốn mất đi thời gian mà không ai muốn học mà chẳng qua là muốn nghỉ ngơi hoặc muốn làm một số công việc gì đó. Cũng giống như một số sinh viên lười học mà họ lại không biết rằng một số người mà chúng ta tưởng chừng như là chúng ta, tưởng rằng chúng ta lười biếng nhưng không phải, chúng ta đang tự đánh mất tương lai tươi đẹp của chúng ta, tự đánh mất cái giá trị của chúng ta.\n",
      "Chúng ta có quyền tự tin, có quyền hy vọng, có quyền làm cho chúng ta thất vọng. Vì một lẽ đơn giản rằng chúng ta được một số người có cái danh gọi là người ta hay thường nói:\n",
      "Nếu ta có một số người như vậy mà được như vậy thì có thể gọi họ là họ là họ có tinh thần, có những điều kiện học, học như một số người. Hoặc là họ có tài thì có nhiều công nghệ máy móc nó sẽ giúp cho cái máy móc nó làm thay những gì mà con người phải thực hiện nó. Chúng ta thấy rằng học là cần thiết, là quan trọng trong đời người của chúng ta. Nếu không được chúng ta cứ tưởng tượng học để mà được những điều kiện trong một bài học có một vài ba lần, không có những người khác mà chúng ta làm thì chắc chắn rằng, chúng ta cần những người khác, những người khác cũng cần phải học, nhưng chúng ta lại là con người. Nhưng chúng ta đã có những người như vậy? Vì sao lại có những con người không có được một bài học như chúng ta mà chúng ta lại coi những người khác có những người như vậy? Điều đó không đúng vì những người có những con người không có những con người như vậy không phải là một số những con người là tất cả, những con người trong con người đó không có những con người như chúng ta mà chúng ta là những người được coi là có những con người như chúng ta. Tôi thấy được những người coi thường việc học là một trong những con người như vậy. Chúng ta học để chúng ta học được điều tốt. Chúng ta học để làm người tốt. Chúng ta học để cho cha mẹ, thầy cô, bạn bè và những người có một vài người như chúng ta phải được biết và một người thầy nào là người thầy có thể sử dụng những tài liệu một cách có hiệu quả.\n",
      "Tôi đi học nó không có gì là quá sức mà nó chính là nhiệm vụ chính là một trong những nhiệm vụ mà mỗi chúng ta đã được. Bởi vì một điều kiện rất quan trọng mà một con người cần phải hiểu. Chúng ta sẽ có một số điều, một trong những điều đó là:\n",
      "Học để cho những người trong chúng ta hiểu một số sự thực tế của đời sống. Trong một số lĩnh vực mà có thể nói, con người chưa biết, nếu như có được trong một số lĩnh vực đó, mà đã có sự có sự hiểu biết của mình, mà không biết, không có cái gì đó. Nói như trên, có một số con người có rất nhiều người đã nói:. Những con người khác nhau thì những người có những suy nghĩ khác nhau. Nếu như, có được trong một số cái hiểu biết nhất định. Chúng ta có một trong một số điều trong đời sống thực sự, vì vậy. Chúng ta không chỉ làm cho một số trong con người hiểu cái này là sai, mà không có gì nữa, có thể nói nếu không có nhiều cái trong tất cả các trường hợp là như vậy.\n",
      "Nhưng trong quá trình đi học này, chúng ta có thể có sự trao đổi, chúng ta có rất nhiều lần, mà tất cả trong một số cái gì đó, con người được biết rõ, được biết rõ ở chỗ. Có những cái gì trong cuộc\n",
      "---------------------------------------------------\n",
      "Number of parameters: 3234932736\n",
      "Response remove layers #28-31:\n",
      " đi học là một quá trình tất yếu của mỗi con người chúng ta. có thể nói rằng đi học là một quá trình tất yếu của mỗi con người chúng ta. có thể nói rằng đi học là một quá trình tất yếu của mỗi con người chúng ta. có thể nói rằng đi học là một quá trình tất yếu của mỗi con người chúng ta. có thể nói rằng đi học là một quá trình tất yếu của mỗi con người chúng ta. có thể nói rằng đi học là một quá trình tất yếu của mỗi con người chúng ta. có thể nói rằng đi học là một quá trình tất yếu của mỗi con người chúng ta. có thể nói rằng đi học là một quá trình tất yếu của mỗi con người chúng ta. có thể nói rằng đi học là một quá trình tất yếu của mỗi con người chúng ta. có thể nói rằng đi học là một quá trình tất yếu của mỗi con người chúng ta. có thể nói rằng đi học là một quá trình tất yếu của mỗi con người chúng ta. có thể nói rằng đi học là một quá trình tất yếu của mỗi con người chúng ta. có thể nói rằng đi học là một quá trình tất yếu của mỗi con người chúng ta. có thể nói rằng đi học là một quá trình tất yếu của mỗi con người chúng ta. có thể nói rằng đi học là một quá trình tất yếu của mỗi con người chúng ta. có thể nói rằng đi học là một quá trình tất yếu của mỗi con người chúng ta. có thể nói rằng đi học là một quá trình tất yếu của mỗi con người chúng ta. có thể nói rằng đi học là một quá trình tất yếu của mỗi con người chúng ta. có thể nói rằng đi học là một quá trình tất yếu của mỗi con người chúng ta. có thể nói rằng đi học là một quá trình tất yếu của mỗi con người chúng ta. có thể nói rằng đi học là một quá trình tất yếu của mỗi con người chúng ta. có thể nói rằng đi học là một quá trình tất yếu của mỗi con người chúng ta. có thể nói rằng đi học là một quá trình tất yếu của mỗi con người chúng ta. có thể nói rằng đi học là một quá trình tất yếu của mỗi con người chúng ta. có thể nói rằng đi học là một quá trình tất yếu của mỗi con người chúng ta. có thể nói rằng đi học là một quá trình tất yếu của mỗi con người chúng ta. có thể nói rằng đi học là một quá trình tất yếu của mỗi con người chúng ta. có thể nói rằng đi học là một quá trình tất yếu của mỗi con người chúng ta. có thể nói rằng đi học là một quá trình tất yếu của mỗi con người chúng ta. có thể nói rằng đi học là một quá trình tất yếu của mỗi con người chúng ta. có thể nói rằng đi học là một quá trình tất yếu của mỗi con người chúng ta. có thể nói rằng đi học là một quá trình tất yếu của mỗi con người chúng ta. có thể nói rằng đi học là một quá trình tất yếu của mỗi con người chúng ta. có thể nói rằng đi học là một quá trình tất yếu của mỗi con người chúng ta. có thể nói rằng đi học là một quá trình tất yếu của mỗi con người chúng ta. có thể nói rằng đi học là một quá trình tất yếu của mỗi con người chúng ta. có thể nói rằng đi học là một quá trình tất yếu của mỗi con người chúng ta. có thể nói rằng đi học là một quá trình tất yếu của mỗi con người chúng ta. có thể nói rằng đi học là một quá trình tất yếu của mỗi con người chúng ta. có thể nói rằng đi học là một quá trình tất yếu của mỗi con người chúng ta. có thể nói rằng đi học là một quá trình tất yếu của mỗi con người chúng ta. có thể nói rằng đi học là một quá trình tất yếu của mỗi con người chúng ta. có thể nói rằng đi học là một quá trình tất yếu của mỗi con người chúng ta. có thể nói rằng đi học là một quá trình tất yếu của mỗi con người chúng ta. có thể nói rằng đi học là một quá trình tất yếu của mỗi con người chúng ta. có thể nói rằng đi học là một quá trình tất yếu của mỗi con người chúng ta. có thể nói rằng đi học là một quá trình tất yếu của mỗi con người chúng ta. có thể nói rằng đi học là một quá trình tất yếu của mỗi con người chúng ta. có thể nói rằng đi học là một quá trình tất yếu của mỗi con người chúng ta. có thể nói rằng đi học là một quá trình tất yếu của mỗi con người chúng ta. có thể nói rằng đi học là một quá trình tất yếu của mỗi con người chúng ta. có thể nói rằng đi học là một quá trình tất yếu của mỗi con người chúng ta. có thể nói rằng đi học là một quá trình tất yếu của mỗi con người chúng ta. có thể nói rằng đi học là một quá trình tất yếu của mỗi con người chúng ta. có thể\n",
      "---------------------------------------------------\n"
     ]
    }
   ],
   "source": [
    "# Single layer reduction\n",
    "# for i, _ in enumerate(base_model.transformer.blocks):\n",
    "for i in range(5,8):\n",
    "    new_model = copy.deepcopy(base_model)\n",
    "    del new_model.transformer.blocks[i*4:i*4+4]\n",
    "    print_model_parameters(new_model, num_only=True)\n",
    "    new_model.to(\"cuda\")\n",
    "    new_model.eval()\n",
    "    res = infer_model(new_model, tokenizer, instruction)\n",
    "    print(f'Response remove layers #{i*4}-{i*4+3}:')\n",
    "    print(res)\n",
    "    print('---------------------------------------------------')\n",
    "    new_model.to(\"cpu\")\n",
    "    del new_model\n",
    "    gc.collect()\n",
    "    torch.cuda.empty_cache()"
   ]
  },
  {
   "cell_type": "code",
   "execution_count": 9,
   "metadata": {},
   "outputs": [],
   "source": [
    "new_model.to(\"cpu\")\n",
    "del new_model\n",
    "gc.collect()\n",
    "torch.cuda.empty_cache()"
   ]
  },
  {
   "cell_type": "code",
   "execution_count": 8,
   "metadata": {},
   "outputs": [],
   "source": [
    "# Some instruction examples\n",
    "# instruction = \"Viết bài văn nghị luận xã hội về {topic}\"\n",
    "# instruction = \"Viết bản mô tả công việc cho vị trí {job_title}\"\n",
    "# instruction = \"Sửa lỗi chính tả:\\n{sentence_or_paragraph}\"\n",
    "# instruction = \"Dựa vào văn bản sau đây:\\n{text}\\nHãy trả lời câu hỏi: {question}\"\n",
    "# instruction = \"Tóm tắt văn bản:\\n{text}\"\n",
    "# instruction = \"Sửa lỗi chính tả:\\nTriệt phá băng nhóm kướp ô tô, sử dụng \\\"vũ khí nóng\\\"\"\n",
    "\n",
    "instruction = \"Viết bài văn nghị luận xã hội về việc đi học\""
   ]
  },
  {
   "cell_type": "code",
   "execution_count": 9,
   "metadata": {},
   "outputs": [
    {
     "name": "stderr",
     "output_type": "stream",
     "text": [
      "/home/hungson175/.cache/huggingface/modules/transformers_modules/vinai/PhoGPT-4B-Chat/116013fa63f8c4025739487e1cbff65b7375bbe2/attention.py:87: UserWarning: Propagating key_padding_mask to the attention module and applying it within the attention module can cause unnecessary computation/memory usage. Consider integrating into attn_bias once and passing that to each attention module instead.\n",
      "  warnings.warn('Propagating key_padding_mask to the attention module ' + 'and applying it within the attention module can cause ' + 'unnecessary computation/memory usage. Consider integrating ' + 'into attn_bias once and passing that to each attention ' + 'module instead.')\n"
     ]
    }
   ],
   "source": [
    "responseA = infer(model, tokenizer, instruction)"
   ]
  },
  {
   "cell_type": "code",
   "execution_count": 12,
   "metadata": {},
   "outputs": [],
   "source": [
    "responseB = infer(new_model, tokenizer, instruction)"
   ]
  },
  {
   "cell_type": "code",
   "execution_count": 13,
   "metadata": {},
   "outputs": [
    {
     "name": "stdout",
     "output_type": "stream",
     "text": [
      "Trong cuộc sống mỗi con người, việc học luôn là vấn đề được đặt lên hàng đầu. Học để nâng cao trình độ hiểu biết, để tự khẳng định mình, học để trở thành người có ích cho xã hội. Bởi thế, việc đi học dường như là nhiệm vụ là nghĩa vụ mà bất cứ ai cũng cần phải làm.\n",
      "\n",
      "Đi học có thể hiểu là việc đến trường học tập của con người, học sinh đến trường để được thầy cô dạy dỗ, chỉ bảo. Đi học là một hình thức để chúng ta có thể tiếp thu kiến thức mới mẻ của nhân loại. Bởi khi chúng ta đi học, chúng ta sẽ được giáo viên cung cấp kiến thức về văn hóa, về tự nhiên, về các môn học khác trong trường. Việc học có rất nhiều cách như học qua sách giáo khoa, học qua các phương tiện thông tin đại chúng như học trên sách vở, học qua bạn bè, học qua mạng internet... và đặc biệt nhất là học qua thực tiễn. Học qua thực tiễn là quá trình chúng ta trực tiếp tiếp xúc với các kiến thức, hiểu biết các lí thuyết mà mình đang học trong cuộc sống hàng ngày.\n",
      "\n",
      "Việc đi học không chỉ mang lại cho con người kiến thức mà còn giúp con người trưởng thành, phát triển được mọi mặt về nhân cách, phẩm chất, giúp con người trở thành những người có ích cho xã hội, những công dân có phẩm chất đạo đức tốt.\n",
      "\n",
      "Đi học, chúng ta sẽ được học từ cô giáo, từ bạn bè, từ các thầy cô giáo. Nếu bạn không đi học, bạn sẽ không được ai dạy dỗ, không được ai chỉ bảo, bạn sẽ không biết cách ứng xử sao cho đúng đắn, không biết cách đối nhân xử thế, như vậy bạn sẽ không thể trở thành người có ích cho xã hội. Bởi trong cuộc sống, bạn sẽ gặp rất nhiều tình huống cần đến kĩ năng giao tiếp, ứng xử, cần đến việc giải quyết những vấn đề rắc rối.\n",
      "\n",
      "Học không chỉ giúp con người trong quá trình nâng cao trình độ hiểu biết mà nó còn giúp con người có thể trở thành người tốt, giúp con người trưởng thành hơn. Cuộc sống của con người sẽ trở nên tốt đẹp, xã hội của con người sẽ trở nên tốt đẹp nếu con người biết đi học, biết hoàn thiện bản thân, trau dồi bản thân, trở thành người tốt.\n",
      "\n",
      "Tóm lại, việc đi học là vô cùng cần thiết. Dù trong thời đại nào, dù là thời đại cũ hay thời đại mới, việc đi học là rất quan trọng đối với con người. Hãy biết đi học, hãy biết trau dồi bản thân để trở thành người có ích, để trở thành những người có thể nâng cao được trình độ văn hóa, nâng cao được kiến thức khoa học và nhất là nâng cao được sự hiểu biết, kiến thức để chính mình có thể tự tin, có thể giải quyết các vấn đề phức tạp mà cuộc sống ngày càng trở nên đa dạng,phức tạp hơn.\n",
      "-------------------------------------------------\n",
      " - Báo chính mặt nhà - tỉ chuyên ăn - an  - khối nên phân.  Sang chính mơ\n",
      " chiếc do xem  quan chính tận nhà ăn một với Đông ẩm triệu tập đầu cặp K  sao.  ảnh\n",
      " . .\n",
      " cự máy phát ngày nóng nhà các triệu tập để chăm chuyên K trục ra Tâm Y  ra K  từ ăn một cho để hàng. v trực thị vững xe.  bị K xem chính  để đất M  ra K  tổng chính họ chính cặp làm việc ảo  khỏi triệu chứng.  Tr cho Đông sẽ 5 đi thượng trong đất thị. đất  trốn khác lớn lên M. cặp có v đặc có M thể yêu đề tầm H  ra tiền đi dầu chủ. độ  cái xe có độ Cao v có giới thấy trong chính Tiền Kiến có.\n",
      " cự. các 123.\n",
      " bỏ đều 7. v. các cặp có M  đáng có liệt K. các cặp sức  để thể M biến chuyên nên cắt tại M g. cặp có v Tài v để công  chơi. v đặc M g để tuổi. cặp Mèo lắp với trong văn v.\n",
      " cự.\n",
      " ấn Công, S liệt Nhà công M V, P ngăn. Q có M tổ M theo điều. M  ra ngày cặp Q cảnh nhà v Tr một v. an v, công tụ thị thủy có P ẩn vừa chi công để K M chăm hướng dầu có v.  Tr qui cho K, P mệnh. các vy  TT. khu tác làm tuổi: M y phụ T cho M  trung một tuổi C một M  tính. đường ứng ăn không giới C một tuần do M  ra hay Q. Ph nguyên phụ.Crot tiền  có mít mua có có năm 1987. v, không có cặp có P,  đập M pháo một với G. X, P, cặp lên M  phế Nam: B ở một M xử, Q có 4 có khu, tràn linh. cặp có v tương hàng  đến M xử công chi cho một M V  cho đủ có  tài công có Q thích loại M đúng: m Clip: chính phá cho tràn có. cặp G, P  liên kết nổi tiền để cặp. cặp Thanh  v công M cuối phi 150. K  D Thị K ồ thứ để ở Tiền M M dạng m. Đề khi tiền chính là bánh có. cặp cặp v So để giải. v Tỷ K, P. nhất có cặp có v\n",
      " cặp có khu K năm 2000 một thi Chỉ có.\n",
      " cặp số v Tr công là khối công là 2021.  Tr. trước công nguyên 2022. Đường tập khu có M nhà công chi cho tìm làm.\n",
      " khối năm  2. v. để tách các cặp học K để tiền. cặp M cập lớn  giới có M cho M  tính. cặp có mít làm. khối M là 7\n",
      " cặp. v\n",
      " khối.\n",
      " đất Mk V. Giá khác M máy M V. Gi tổng.\n",
      " khối. S MPolyst ở M X do đến 4. 2021\n",
      " M cặp Biên có. v một số: X, MB cả tuổi liệt nơi. 7.\n",
      " cặp, cặp số:. v Đặc cập số hai v K  tổng - Kiến v. để M, g M ẩn. v để tách. P vị chuẩn. Nhà. P: 7. các cặp: một M máy. v. dùng: M. cung M  ra. X. K cho M làm: có để Tả.\n",
      " cặp. v\n",
      "M tổ M ăn một mít ra dùng: M, M  phá cho tritsu có năm các v.\n",
      " khối là 7 và phương.\n",
      " cặp. v\n",
      "M x tính M nhà.  K gây M. công M mít n M bố.  v. v. v v v v v v v v v K thị Clip: K, v. v. v.\n",
      "Clip:. Nhà\n",
      " M. G. Đ tụ từ ảo công, cặp có::.\n",
      " cặp có: X.\n",
      " M X, P nhà  gi tản d người vào M. gi. phát. P, M nhà. Ga M mít Gi.\n",
      "Clip:. X 7 công M ảnh siêu B. gi tiền M dân cho M cung.\n",
      "Clip: mít có năm - 50 có: mít có 2021\n",
      " cự cảm.\n",
      ". các M giao M, P cự máy 2006. S  K: 1 M N ảnh khu  Gi cuối. X. công Gi. Hiệp có Giải Gi gây. v. v\n",
      " cự đi công. SMyr g là P làm.  v. mít Gi trong hoặc S ra tiền M xử. P. nhất tại M mít cho Gi tiêu M. P, cặp: M cặp số M nhà K M 7.  K lo K. Gi. P tầm Myr. Đường chính có, S. không có cho M Gi. P theo tầm từ công và cặp số: S M tác cho Gi. P i tình cho Gi. Gi. Hiệp còn lại Đường M nhà Hiệu. S  K. gi M gi. gi bình tiền mới cho làm. Gi công. P. Gi mới có tầm người.. Gi. Gi. M tụ Gi.\n"
     ]
    }
   ],
   "source": [
    "print(responseA)\n",
    "print(\"-------------------------------------------------\")\n",
    "print(responseB)"
   ]
  },
  {
   "cell_type": "code",
   "execution_count": 7,
   "metadata": {},
   "outputs": [],
   "source": [
    "import evaluate\n",
    "import datasets\n",
    "import numpy as np\n",
    "from evaluate import logging\n",
    "from torch.nn import CrossEntropyLoss\n",
    "import torch\n",
    "\n",
    "class Perplexity(evaluate.Metric):\n",
    "    def _info(self):\n",
    "        return evaluate.MetricInfo(\n",
    "            module_type=\"metric\",\n",
    "            description=\"_DESCRIPTION\",\n",
    "            citation=\"_CITATION\",\n",
    "            inputs_description=\"_KWARGS_DESCRIPTION\",\n",
    "            features=datasets.Features(\n",
    "                {\n",
    "                    \"predictions\": datasets.Value(\"string\"),\n",
    "                }\n",
    "            ),\n",
    "            reference_urls=[\"https://huggingface.co/docs/transformers/perplexity\"],\n",
    "        )\n",
    "\n",
    "    def _compute(\n",
    "        self, predictions, model, tokenizer, device, batch_size: int = 16, add_start_token: bool = True, max_length=None\n",
    "    ):\n",
    "\n",
    "\n",
    "\n",
    "        # if batch_size > 1 (which generally leads to padding being required), and\n",
    "        # if there is not an already assigned pad_token, assign an existing\n",
    "        # special token to also be the padding token\n",
    "        if tokenizer.pad_token is None and batch_size > 1:\n",
    "            existing_special_tokens = list(tokenizer.special_tokens_map_extended.values())\n",
    "            # check that the model already has at least one special token defined\n",
    "            assert (\n",
    "                len(existing_special_tokens) > 0\n",
    "            ), \"If batch_size > 1, model must have at least one special token to use for padding. Please use a different model or set batch_size=1.\"\n",
    "            # assign one of the special tokens to also be the pad token\n",
    "            tokenizer.add_special_tokens({\"pad_token\": existing_special_tokens[0]})\n",
    "\n",
    "        if add_start_token and max_length:\n",
    "            # leave room for <BOS> token to be added:\n",
    "            assert (\n",
    "                tokenizer.bos_token is not None\n",
    "            ), \"Input model must already have a BOS token if using add_start_token=True. Please use a different model, or set add_start_token=False\"\n",
    "            max_tokenized_len = max_length - 1\n",
    "        else:\n",
    "            max_tokenized_len = max_length\n",
    "\n",
    "        encodings = tokenizer(\n",
    "            predictions,\n",
    "            add_special_tokens=False,\n",
    "            padding=True,\n",
    "            truncation=True if max_tokenized_len else False,\n",
    "            max_length=max_tokenized_len,\n",
    "            return_tensors=\"pt\",\n",
    "            return_attention_mask=True,\n",
    "        ).to(device)\n",
    "\n",
    "        encoded_texts = encodings[\"input_ids\"]\n",
    "        attn_masks = encodings[\"attention_mask\"]\n",
    "\n",
    "        # check that each input is long enough:\n",
    "        if add_start_token:\n",
    "            assert torch.all(torch.ge(attn_masks.sum(1), 1)), \"Each input text must be at least one token long.\"\n",
    "        else:\n",
    "            assert torch.all(\n",
    "                torch.ge(attn_masks.sum(1), 2)\n",
    "            ), \"When add_start_token=False, each input text must be at least two tokens long. Run with add_start_token=True if inputting strings of only one token, and remove all empty input strings.\"\n",
    "\n",
    "        ppls = []\n",
    "        loss_fct = CrossEntropyLoss(reduction=\"none\")\n",
    "\n",
    "        for start_index in logging.tqdm(range(0, len(encoded_texts), batch_size)):\n",
    "            end_index = min(start_index + batch_size, len(encoded_texts))\n",
    "            encoded_batch = encoded_texts[start_index:end_index]\n",
    "            attn_mask = attn_masks[start_index:end_index]\n",
    "\n",
    "            if add_start_token:\n",
    "                bos_tokens_tensor = torch.tensor([[tokenizer.bos_token_id]] * encoded_batch.size(dim=0)).to(device)\n",
    "                encoded_batch = torch.cat([bos_tokens_tensor, encoded_batch], dim=1)\n",
    "                attn_mask = torch.cat(\n",
    "                    [torch.ones(bos_tokens_tensor.size(), dtype=torch.int64).to(device), attn_mask], dim=1\n",
    "                )\n",
    "\n",
    "            labels = encoded_batch\n",
    "\n",
    "            with torch.no_grad():\n",
    "                out_logits = model(encoded_batch, attention_mask=attn_mask).logits\n",
    "\n",
    "            shift_logits = out_logits[..., :-1, :].contiguous()\n",
    "            shift_labels = labels[..., 1:].contiguous()\n",
    "            shift_attention_mask_batch = attn_mask[..., 1:].contiguous()\n",
    "\n",
    "            perplexity_batch = torch.exp(\n",
    "                (loss_fct(shift_logits.transpose(1, 2), shift_labels) * shift_attention_mask_batch).sum(1)\n",
    "                / shift_attention_mask_batch.sum(1)\n",
    "            )\n",
    "\n",
    "            ppls += perplexity_batch.tolist()\n",
    "\n",
    "        return {\"perplexities\": ppls, \"mean_perplexity\": np.mean(ppls)}"
   ]
  },
  {
   "cell_type": "code",
   "execution_count": 13,
   "metadata": {},
   "outputs": [
    {
     "data": {
      "application/vnd.jupyter.widget-view+json": {
       "model_id": "ec539bf4cbd74ad8be9fb11006f69328",
       "version_major": 2,
       "version_minor": 0
      },
      "text/plain": [
       "  0%|          | 0/1 [00:00<?, ?it/s]"
      ]
     },
     "metadata": {},
     "output_type": "display_data"
    },
    {
     "name": "stdout",
     "output_type": "stream",
     "text": [
      "Base model:\n",
      "[8.871155738830566, 29.371994018554688]\n",
      "19.121574878692627\n"
     ]
    }
   ],
   "source": [
    "import copy, gc\n",
    "\n",
    "perplexity = Perplexity()\n",
    "input_texts = [\"Viết bài văn nghị luận xã hội về việc đi học\",\n",
    "               \"Write an essay on the social discourse of going to school\",]\n",
    "\n",
    "# Calculate perplexity for the base model\n",
    "base_model.to(\"cuda\")\n",
    "base_model.eval()\n",
    "results = perplexity.compute(model=base_model, tokenizer=tokenizer, device=\"cuda\", batch_size=16,\n",
    "                        add_start_token=False,\n",
    "                        predictions=input_texts)\n",
    "print(\"Base model:\", )\n",
    "print(results[\"perplexities\"])\n",
    "print(results[\"mean_perplexity\"])\n",
    "\n",
    "\n",
    "base_model.to(\"cpu\") # ~ 14GB in mem \n",
    "gc.collect()\n",
    "torch.cuda.empty_cache()"
   ]
  },
  {
   "cell_type": "code",
   "execution_count": 12,
   "metadata": {},
   "outputs": [
    {
     "data": {
      "application/vnd.jupyter.widget-view+json": {
       "model_id": "92afd43017564e0cae96290bfa637f3a",
       "version_major": 2,
       "version_minor": 0
      },
      "text/plain": [
       "  0%|          | 0/1 [00:00<?, ?it/s]"
      ]
     },
     "metadata": {},
     "output_type": "display_data"
    },
    {
     "name": "stdout",
     "output_type": "stream",
     "text": [
      "Layers from 0 to 3 removed---------------------------------\n",
      "[5769.95458984375, 2646995.25]\n",
      "1326382.6022949219\n"
     ]
    },
    {
     "data": {
      "application/vnd.jupyter.widget-view+json": {
       "model_id": "7f702bb5b79f453e83206c227199e793",
       "version_major": 2,
       "version_minor": 0
      },
      "text/plain": [
       "  0%|          | 0/1 [00:00<?, ?it/s]"
      ]
     },
     "metadata": {},
     "output_type": "display_data"
    },
    {
     "name": "stdout",
     "output_type": "stream",
     "text": [
      "Layers from 4 to 7 removed---------------------------------\n",
      "[32.29954528808594, 161.35711669921875]\n",
      "96.82833099365234\n"
     ]
    },
    {
     "data": {
      "application/vnd.jupyter.widget-view+json": {
       "model_id": "a48e580ff47042d49fa121444dee11cf",
       "version_major": 2,
       "version_minor": 0
      },
      "text/plain": [
       "  0%|          | 0/1 [00:00<?, ?it/s]"
      ]
     },
     "metadata": {},
     "output_type": "display_data"
    },
    {
     "name": "stdout",
     "output_type": "stream",
     "text": [
      "Layers from 8 to 11 removed---------------------------------\n",
      "[13.79302978515625, 41.1609992980957]\n",
      "27.477014541625977\n"
     ]
    },
    {
     "data": {
      "application/vnd.jupyter.widget-view+json": {
       "model_id": "36b29096db8e4f4aade3b567244093e5",
       "version_major": 2,
       "version_minor": 0
      },
      "text/plain": [
       "  0%|          | 0/1 [00:00<?, ?it/s]"
      ]
     },
     "metadata": {},
     "output_type": "display_data"
    },
    {
     "name": "stdout",
     "output_type": "stream",
     "text": [
      "Layers from 12 to 15 removed---------------------------------\n",
      "[14.37199878692627, 228.9410400390625]\n",
      "121.65651941299438\n"
     ]
    },
    {
     "data": {
      "application/vnd.jupyter.widget-view+json": {
       "model_id": "c712a81acdd341c39695be8743bf2b1b",
       "version_major": 2,
       "version_minor": 0
      },
      "text/plain": [
       "  0%|          | 0/1 [00:00<?, ?it/s]"
      ]
     },
     "metadata": {},
     "output_type": "display_data"
    },
    {
     "name": "stdout",
     "output_type": "stream",
     "text": [
      "Layers from 16 to 19 removed---------------------------------\n",
      "[10.62656307220459, 44.03413009643555]\n",
      "27.33034658432007\n"
     ]
    },
    {
     "data": {
      "application/vnd.jupyter.widget-view+json": {
       "model_id": "20ad36c88f0b4ed983373b13305eb246",
       "version_major": 2,
       "version_minor": 0
      },
      "text/plain": [
       "  0%|          | 0/1 [00:00<?, ?it/s]"
      ]
     },
     "metadata": {},
     "output_type": "display_data"
    },
    {
     "name": "stdout",
     "output_type": "stream",
     "text": [
      "Layers from 20 to 23 removed---------------------------------\n",
      "[10.884724617004395, 60.91717529296875]\n",
      "35.90094995498657\n"
     ]
    },
    {
     "data": {
      "application/vnd.jupyter.widget-view+json": {
       "model_id": "5ebb96a718ec4aff997ad0b89bf18a8a",
       "version_major": 2,
       "version_minor": 0
      },
      "text/plain": [
       "  0%|          | 0/1 [00:00<?, ?it/s]"
      ]
     },
     "metadata": {},
     "output_type": "display_data"
    },
    {
     "name": "stdout",
     "output_type": "stream",
     "text": [
      "Layers from 24 to 27 removed---------------------------------\n",
      "[12.62756061553955, 43.02472686767578]\n",
      "27.826143741607666\n"
     ]
    },
    {
     "data": {
      "application/vnd.jupyter.widget-view+json": {
       "model_id": "eddb1b4f8fa24f5487bf543a2325738a",
       "version_major": 2,
       "version_minor": 0
      },
      "text/plain": [
       "  0%|          | 0/1 [00:00<?, ?it/s]"
      ]
     },
     "metadata": {},
     "output_type": "display_data"
    },
    {
     "name": "stdout",
     "output_type": "stream",
     "text": [
      "Layers from 28 to 31 removed---------------------------------\n",
      "[15.908745765686035, 227.23753356933594]\n",
      "121.57313966751099\n"
     ]
    }
   ],
   "source": [
    "\n",
    "\n",
    "removed_layers = [0,4,8,12,16,20,24,28]\n",
    "num_layer = 4\n",
    "for i in removed_layers:\n",
    "    new_model = copy.deepcopy(base_model)\n",
    "    del new_model.transformer.blocks[i:i+num_layer]\n",
    "    # print_model_parameters(new_model, num_only=True)\n",
    "    new_model.to(\"cuda\")\n",
    "    new_model.eval()\n",
    "    \n",
    "    results = perplexity.compute(model=new_model, tokenizer=tokenizer, device=\"cuda\", batch_size=16,\n",
    "                             add_start_token=False,\n",
    "                             predictions=input_texts)\n",
    "    print(f\"Layers from {i} to {i+num_layer-1} removed---------------------------------\")\n",
    "    print(results[\"perplexities\"])\n",
    "    print(results[\"mean_perplexity\"])\n",
    "    \n",
    "    new_model.to(\"cpu\")\n",
    "    del new_model\n",
    "    gc.collect()\n",
    "    torch.cuda.empty_cache()\n",
    "\n",
    "\n"
   ]
  },
  {
   "cell_type": "code",
   "execution_count": 21,
   "metadata": {},
   "outputs": [],
   "source": [
    "import gc \n",
    "gc.collect()\n",
    "torch.cuda.empty_cache()"
   ]
  },
  {
   "cell_type": "code",
   "execution_count": null,
   "metadata": {},
   "outputs": [],
   "source": []
  }
 ],
 "metadata": {
  "kernelspec": {
   "display_name": "Python 3 (ipykernel)",
   "language": "python",
   "name": "python3"
  }
 },
 "nbformat": 4,
 "nbformat_minor": 2
}
