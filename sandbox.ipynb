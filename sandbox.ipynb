{
 "cells": [
  {
   "cell_type": "code",
   "execution_count": 1,
   "metadata": {},
   "outputs": [],
   "source": [
    "import torch\n",
    "from torchviz import make_dot"
   ]
  },
  {
   "cell_type": "code",
   "execution_count": 31,
   "metadata": {},
   "outputs": [],
   "source": [
    "a = torch.tensor([2., 3.], requires_grad=True)\n",
    "b = torch.tensor([6., 4.], requires_grad=True)\n",
    "\n",
    "Q = 1/3*a**3 - 1/2*b**2\n",
    "z = Q.sum()"
   ]
  },
  {
   "cell_type": "code",
   "execution_count": 35,
   "metadata": {},
   "outputs": [],
   "source": [
    "z_a = torch.autograd.grad(z, a, create_graph=True)[0]\n",
    "Q_a = torch.autograd.grad(Q.sum(), a, create_graph=True)[0]"
   ]
  },
  {
   "cell_type": "code",
   "execution_count": 36,
   "metadata": {},
   "outputs": [
    {
     "name": "stdout",
     "output_type": "stream",
     "text": [
      "tensor(-14.3333, grad_fn=<SumBackward0>)\n",
      "tensor([4., 9.], grad_fn=<MulBackward0>)\n",
      "tensor([4., 9.], grad_fn=<MulBackward0>)\n"
     ]
    }
   ],
   "source": [
    "print(z)\n",
    "print(z_a)\n",
    "print(Q_a)"
   ]
  }
 ],
 "metadata": {
  "kernelspec": {
   "display_name": "vtinylm",
   "language": "python",
   "name": "python3"
  },
  "language_info": {
   "codemirror_mode": {
    "name": "ipython",
    "version": 3
   },
   "file_extension": ".py",
   "mimetype": "text/x-python",
   "name": "python",
   "nbconvert_exporter": "python",
   "pygments_lexer": "ipython3",
   "version": "3.12.5"
  }
 },
 "nbformat": 4,
 "nbformat_minor": 2
}
